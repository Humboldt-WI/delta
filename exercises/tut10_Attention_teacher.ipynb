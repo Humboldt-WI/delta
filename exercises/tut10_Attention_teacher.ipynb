{
 "cells": [
  {
   "cell_type": "markdown",
   "metadata": {
    "id": "pPKJ4ncr28Sn"
   },
   "source": [
    "[![Open In Colab](https://colab.research.google.com/assets/colab-badge.svg)](https://colab.research.google.com/github/Humboldt-WI/adams/blob/master/exercises/tut10_Attention_teacher.ipynb)"
   ]
  },
  {
   "cell_type": "markdown",
   "metadata": {
    "id": "Zi0VHqNDCfYD"
   },
   "source": [
    "# Attention and transformers\n",
    "\n",
    "In this exercise you will apply a transformer model to the task of sentiment classification. We highlight two very important properties of transformer models.\n",
    "* self-attention: this mechanism enables the models to capture the context of each word within an incoming text.\n",
    "* positional encoding: Just like RNN's, transformers process sequence data, but instead of using hidden states to capture the ordering of words, transformers use positional embeddings.\n",
    "\n",
    "The first part of the exercise is meant to give an intuition of the self-attention principle. In addition to solving the exercise, you can watch the video https://www.youtube.com/watch?v=g2BRIuln4uc, which illustrates the idea of attention very clearly. Positional encodings are a rather abstract topic and will not be handled in this exercise. However, the video https://www.youtube.com/watch?v=1biZfFLPRSY offers a simple and understandable illustration of this topic.\n",
    "\n",
    "In the second part of the tutorial, you will implement a simplified version of the forward pass in Transformer Neural Networks. In the third part of the tutorial, you need to apply a BERT (Bidirectional Encoder Representations from Transformers) model, which belongs to the family of transformer models.  \n",
    "\n"
   ]
  },
  {
   "cell_type": "code",
   "execution_count": 1,
   "metadata": {
    "id": "mSOkyfXlHQ0_"
   },
   "outputs": [],
   "source": [
    "## required libraries\n",
    "import numpy as np\n",
    "import pandas as pd\n",
    "from scipy.special import softmax\n",
    "import seaborn as sns\n",
    "import matplotlib.pyplot as plt"
   ]
  },
  {
   "cell_type": "code",
   "execution_count": 2,
   "metadata": {
    "id": "r5IgH61j-0Oc"
   },
   "outputs": [],
   "source": [
    "## definition of the vocabulary\n",
    "voc = ['I', 'swam', 'across', 'the', 'river', 'to', 'get', 'other', 'bank', 'drove', 'road']"
   ]
  },
  {
   "cell_type": "code",
   "execution_count": 3,
   "metadata": {
    "id": "cIOUSrJz-6qZ"
   },
   "outputs": [
    {
     "name": "stdout",
     "output_type": "stream",
     "text": [
      "(11, 2)\n"
     ]
    }
   ],
   "source": [
    "## artificial two dimensional embeddings\n",
    "emb = pd.DataFrame([[1, 1],\n",
    "                    [2, 2],\n",
    "                    [1.2, 1.2],\n",
    "                    [0.9,0.9],\n",
    "                    [1.9,1.9],\n",
    "                    [0.8,0.8],\n",
    "                    [0.85,0.85],\n",
    "                    [0.95,0.95],\n",
    "                    [0,2],[2,-2],\n",
    "                    [2,-1.9]])\n",
    "\n",
    "print(emb.shape)"
   ]
  },
  {
   "cell_type": "markdown",
   "metadata": {
    "id": "Gq2T8NdlOlAw"
   },
   "source": [
    "### Exercise 1\n",
    "In this exercise we want to generate contextualized embeddings. Let $[v_{1},...,v_{n}]$ be a sentence were $v_{i}$ is the (non-contextualized) embedding of token $i$. A contextualized embedding $y_{i}$ of word $i$ is the weighted sum of the (non-contextualized) embeddings of the tokens in that sentence $y_{i}=\\sum_{j=1}^{n} w_{ij}v_{j}$. The $w_{ij}$ are the attention weights, which measure the importance of token $j$ for the context, in which token $i$ appears.\n",
    "\n",
    "a) Your first exercise is to calculate the attention weights for each token in the sentence \"I swam across the river, to get to the other bank.\" The weights should be stored in a matrix \n",
    "$$\\begin{bmatrix}\n",
    "w_{11} & ... & w_{1n}\\\\\n",
    "\\vdots & \\vdots & \\vdots \\\\\n",
    "w_{n1} & ... & w_{nn}\n",
    "\\end{bmatrix} $$\n",
    "Below, we provide a function to calculate the weights."
   ]
  },
  {
   "cell_type": "code",
   "execution_count": 4,
   "metadata": {
    "id": "x_2Afu32Mm4q"
   },
   "outputs": [],
   "source": [
    "## function to calculate the attention weights\n",
    "def attention_weights(token, sent, emb, voc):\n",
    "    idx_token=voc.index(token)\n",
    "    #print(token)\n",
    "    #print(idx_token)\n",
    "\n",
    "    idx_sentence = []\n",
    "    for i in range(0, len(sent)):\n",
    "        idx_sentence.append(voc.index(sent[i]))#[idx for idx, element in enumerate(voc) if element == sent[i]][0])\n",
    "\n",
    "    #print(idx_sentence,'\\n')\n",
    "\n",
    "    weights = softmax([np.dot(emb.iloc[idx_token],emb.iloc[i]) for i in idx_sentence])\n",
    "\n",
    "    ## return\n",
    "    return weights"
   ]
  },
  {
   "cell_type": "markdown",
   "metadata": {
    "id": "qMnmjfWX28Ss"
   },
   "source": [
    "Take each token $i$, find it's index in the vocabulary of unique words, based on that index, get the embeddings of that token from the dataframe $emb$. After retrieving the embeddings for each token, before moving onto to the next token, retrieve the embeddings for all other tokens in the tokenized list, and compute dot products between the embddings of token $i$ and all other embeddings. In this way, we quantify the relationship between the embeddings of each token with the embeddings of all other tokens. The dot products for each token $i$ with all other embeddings are then squashed with the softmax activation function."
   ]
  },
  {
   "cell_type": "code",
   "execution_count": 5,
   "metadata": {
    "colab": {
     "base_uri": "https://localhost:8080/"
    },
    "id": "5bWfGJi3M4tu",
    "outputId": "fc1cda5a-ff2a-4f9f-c308-fea203f74fe5"
   },
   "outputs": [
    {
     "name": "stdout",
     "output_type": "stream",
     "text": [
      "          0         1         2         3         4         5         6   \\\n",
      "0   0.046394  0.342811  0.069212  0.037985  0.280670  0.031099  0.034370   \n",
      "1   0.010098  0.551336  0.022474  0.006769  0.369572  0.004537  0.005542   \n",
      "2   0.036094  0.397865  0.058330  0.028392  0.312972  0.022334  0.025182   \n",
      "3   0.051869  0.313790  0.074346  0.043325  0.262100  0.036188  0.039596   \n",
      "4   0.012033  0.537892  0.025730  0.008229  0.367843  0.005627  0.006805   \n",
      "5   0.057415  0.284376  0.079067  0.048925  0.242329  0.041692  0.045164   \n",
      "6   0.054641  0.299100  0.076767  0.046098  0.252340  0.038892  0.042342   \n",
      "7   0.057415  0.284376  0.079067  0.048925  0.242329  0.041692  0.045164   \n",
      "8   0.051869  0.313790  0.074346  0.043325  0.262100  0.036188  0.039596   \n",
      "9   0.049116  0.328381  0.071821  0.040617  0.271558  0.033588  0.036936   \n",
      "10  0.035787  0.264430  0.053387  0.029300  0.216497  0.023989  0.026511   \n",
      "\n",
      "          7         8         9         10  \n",
      "0   0.031099  0.037985  0.041979  0.046394  \n",
      "1   0.004537  0.006769  0.008268  0.010098  \n",
      "2   0.022334  0.028392  0.032012  0.036094  \n",
      "3   0.036188  0.043325  0.047405  0.051869  \n",
      "4   0.005627  0.008229  0.009951  0.012033  \n",
      "5   0.041692  0.048925  0.053000  0.057415  \n",
      "6   0.038892  0.046098  0.050188  0.054641  \n",
      "7   0.041692  0.048925  0.053000  0.057415  \n",
      "8   0.036188  0.043325  0.047405  0.051869  \n",
      "9   0.033588  0.040617  0.044664  0.049116  \n",
      "10  0.023989  0.029300  0.032381  0.264430  \n"
     ]
    }
   ],
   "source": [
    "## calculation of the weights\n",
    "sent_water = ['I', 'swam', 'across', 'the', 'river', 'to', 'get', 'to', 'the', 'other', 'bank']\n",
    "sent_weights = []\n",
    "for i_token in range(0, len(sent_water)):\n",
    "  sent_weights.append(attention_weights(sent_water[i_token], sent_water,emb,voc))\n",
    "\n",
    "## print results\n",
    "print(pd.DataFrame(sent_weights))"
   ]
  },
  {
   "cell_type": "markdown",
   "metadata": {
    "id": "exPE1enONRY7"
   },
   "source": [
    "b) Plot a heat map of the weights, using sns.heatmap."
   ]
  },
  {
   "cell_type": "code",
   "execution_count": 6,
   "metadata": {
    "colab": {
     "base_uri": "https://localhost:8080/",
     "height": 478
    },
    "id": "6wfD0NCxRyYM",
    "outputId": "d8cfc46c-2f32-4501-e8f5-88966b6d93cd"
   },
   "outputs": [
    {
     "data": {
      "text/plain": [
       "<Axes: >"
      ]
     },
     "execution_count": 6,
     "metadata": {},
     "output_type": "execute_result"
    },
    {
     "data": {
      "image/png": "[encoded data removed]",
      "text/plain": [
       "<Figure size 640x480 with 2 Axes>"
      ]
     },
     "metadata": {},
     "output_type": "display_data"
    }
   ],
   "source": [
    "sns.heatmap(pd.DataFrame(sent_weights, columns=sent_water, index = sent_water), annot=True)"
   ]
  },
  {
   "cell_type": "markdown",
   "metadata": {
    "id": "YdRJrkBDGPzE"
   },
   "source": [
    "c) Calculate the contextualized embedding of the word \"bank\" in the two sentences \"I swam across the river, to get to the other bank.\" and \"I drove across the road, to get to the other bank\". You can do this by multiplying the transposed embedding matrix $E'=\\begin{bmatrix}\n",
    "v_{1} & ... & v_{n}\\\\\n",
    "\\end{bmatrix}$ with the vector $\\begin{bmatrix}\n",
    "w_{i1} & ... & w_{in}\\\\\n",
    "\\end{bmatrix}$, of the weights of \"bank\".  "
   ]
  },
  {
   "cell_type": "code",
   "execution_count": 9,
   "metadata": {
    "colab": {
     "base_uri": "https://localhost:8080/"
    },
    "id": "Jj44jWGgWwaR",
    "outputId": "4b9d014f-2a2c-426c-9f5e-4908e404e7f6"
   },
   "outputs": [
    {
     "name": "stdout",
     "output_type": "stream",
     "text": [
      "[0.0357867  0.26442994 0.05338748 0.02929967 0.21649692 0.02398854\n",
      " 0.02651144 0.02398854 0.02929967 0.03238115 0.26442994] \n",
      "\n",
      "[6.89173020e-02 1.70828912e-04 1.02812533e-01 5.64247146e-02\n",
      " 2.08650905e-04 4.61966491e-02 5.10551931e-02 4.61966491e-02\n",
      " 5.64247146e-02 6.23589536e-02 5.09233811e-01]\n"
     ]
    }
   ],
   "source": [
    "sent_water = ['I', 'swam', 'across', 'the', 'river', 'to', 'get', 'to', 'the', 'other', 'bank']\n",
    "sent_road = ['I', 'drove', 'across', 'the', 'road', 'to', 'get', 'to', 'the', 'other', 'bank']\n",
    "weights_bank_water = attention_weights('bank', sent_water,emb,voc)\n",
    "weights_bank_road = attention_weights('bank', sent_road,emb,voc)\n",
    "print(weights_bank_water, '\\n')\n",
    "print(weights_bank_road)"
   ]
  },
  {
   "cell_type": "markdown",
   "metadata": {
    "id": "p1vWZ1LR28Su"
   },
   "source": [
    "We take the attention scores, indicating how important other tokens are for the context of the word 'bank' in each sentence, and compute the dot product between these attention weights and the non-contextualized embeddings of all tokens in the sentences.  "
   ]
  },
  {
   "cell_type": "code",
   "execution_count": 14,
   "metadata": {
    "colab": {
     "base_uri": "https://localhost:8080/"
    },
    "id": "6F16kdnMXgTX",
    "outputId": "83125604-d783-403a-86ce-95bb32bad5a9"
   },
   "outputs": [
    {
     "name": "stdout",
     "output_type": "stream",
     "text": [
      "[1.1844736  1.71333348]\n",
      "[0.47116835 1.48813891]\n"
     ]
    }
   ],
   "source": [
    "emb_bank_water=np.array([emb.iloc[voc.index(token),:].values for token in sent_water])\n",
    "emb_bank_water_contextualized = np.dot(emb_bank_water.T,weights_bank_water)\n",
    "\n",
    "emb_bank_road=np.array([emb.iloc[voc.index(token),:].values for token in sent_road])\n",
    "emb_bank_road_contextualized = np.dot(emb_bank_road.T,weights_bank_road)\n",
    "\n",
    "print(emb_bank_water_contextualized)\n",
    "print(emb_bank_road_contextualized)"
   ]
  },
  {
   "cell_type": "code",
   "execution_count": 15,
   "metadata": {},
   "outputs": [
    {
     "data": {
      "text/html": [
       "<div>\n",
       "<style scoped>\n",
       "    .dataframe tbody tr th:only-of-type {\n",
       "        vertical-align: middle;\n",
       "    }\n",
       "\n",
       "    .dataframe tbody tr th {\n",
       "        vertical-align: top;\n",
       "    }\n",
       "\n",
       "    .dataframe thead th {\n",
       "        text-align: right;\n",
       "    }\n",
       "</style>\n",
       "<table border=\"1\" class=\"dataframe\">\n",
       "  <thead>\n",
       "    <tr style=\"text-align: right;\">\n",
       "      <th></th>\n",
       "      <th>0</th>\n",
       "      <th>1</th>\n",
       "    </tr>\n",
       "  </thead>\n",
       "  <tbody>\n",
       "    <tr>\n",
       "      <th>0</th>\n",
       "      <td>1.00</td>\n",
       "      <td>1.00</td>\n",
       "    </tr>\n",
       "    <tr>\n",
       "      <th>1</th>\n",
       "      <td>2.00</td>\n",
       "      <td>2.00</td>\n",
       "    </tr>\n",
       "    <tr>\n",
       "      <th>2</th>\n",
       "      <td>1.20</td>\n",
       "      <td>1.20</td>\n",
       "    </tr>\n",
       "    <tr>\n",
       "      <th>3</th>\n",
       "      <td>0.90</td>\n",
       "      <td>0.90</td>\n",
       "    </tr>\n",
       "    <tr>\n",
       "      <th>4</th>\n",
       "      <td>1.90</td>\n",
       "      <td>1.90</td>\n",
       "    </tr>\n",
       "    <tr>\n",
       "      <th>5</th>\n",
       "      <td>0.80</td>\n",
       "      <td>0.80</td>\n",
       "    </tr>\n",
       "    <tr>\n",
       "      <th>6</th>\n",
       "      <td>0.85</td>\n",
       "      <td>0.85</td>\n",
       "    </tr>\n",
       "    <tr>\n",
       "      <th>7</th>\n",
       "      <td>0.95</td>\n",
       "      <td>0.95</td>\n",
       "    </tr>\n",
       "    <tr>\n",
       "      <th>8</th>\n",
       "      <td>0.00</td>\n",
       "      <td>2.00</td>\n",
       "    </tr>\n",
       "    <tr>\n",
       "      <th>9</th>\n",
       "      <td>2.00</td>\n",
       "      <td>-2.00</td>\n",
       "    </tr>\n",
       "    <tr>\n",
       "      <th>10</th>\n",
       "      <td>2.00</td>\n",
       "      <td>-1.90</td>\n",
       "    </tr>\n",
       "  </tbody>\n",
       "</table>\n",
       "</div>"
      ],
      "text/plain": [
       "       0     1\n",
       "0   1.00  1.00\n",
       "1   2.00  2.00\n",
       "2   1.20  1.20\n",
       "3   0.90  0.90\n",
       "4   1.90  1.90\n",
       "5   0.80  0.80\n",
       "6   0.85  0.85\n",
       "7   0.95  0.95\n",
       "8   0.00  2.00\n",
       "9   2.00 -2.00\n",
       "10  2.00 -1.90"
      ]
     },
     "execution_count": 15,
     "metadata": {},
     "output_type": "execute_result"
    }
   ],
   "source": [
    "emb"
   ]
  },
  {
   "cell_type": "code",
   "execution_count": 13,
   "metadata": {},
   "outputs": [
    {
     "data": {
      "text/plain": [
       "array([1.1844736 , 1.71333348])"
      ]
     },
     "execution_count": 13,
     "metadata": {},
     "output_type": "execute_result"
    }
   ],
   "source": [
    "np.dot(emb_bank_water.T,weights_bank_water)"
   ]
  },
  {
   "cell_type": "markdown",
   "metadata": {
    "id": "6dmR_4EmVzVz"
   },
   "source": [
    "d) Now, you generated contextualized embeddings in a very simple way by calculating scalar products between the un-contextualized embeddings $s_{ij}=\\langle\\,v_{i},v_{j}\\rangle$, calculating weights by softmax $w_{ij}=\\frac{e^{s_{ij}}}{\\sum_{j}e^{s_{ij}}}$ and building a weighted sum of the un-contextualized embeddings $y_{i}=\\sum_{j}w_{ij}v_{j}$. Does it make sense to integrate this transformation procedure for the embeddings into a machine learning model or is there a way we could modify this procedure, such that it makes more sense?  "
   ]
  },
  {
   "cell_type": "markdown",
   "metadata": {
    "id": "XyCUBcACZGZO"
   },
   "source": [
    "### Answer\n",
    "The above procedure is deterministic, so there is nothing to learn for a machine learning model. We could add three weight matrices $M_{q}$ (queries), $M_{k}$ (keys), $M_{v}$ (values) to the process. The scalar products then become $s_{ij}=\\langle\\,M_{q}v_{i},M_{k}v_{j}\\rangle$ and the weighted sum of embeddings becomes $y_{i}=\\sum_{j}w_{ij}M_{v}v_{j}$. The weights of these matrices can be learned within a machine learning model."
   ]
  },
  {
   "cell_type": "markdown",
   "metadata": {
    "id": "oCwcoXSCPZpw"
   },
   "source": [
    "## Exercise 2 Transformer Neural Networks (forward pass)\n",
    "In this excercise, we will compute a simplified version of the forward pass in a transformer neural network: we will focus mainly on the computations concerning the weight matrices used in the (self-)attention mechanism in the encoder and the decoder. This means, we will ignore for now the addition of positional embeddings, the residual connections, the normalization layers, also the fully-connected neural networks in the encoder and the decoder, and the head of the entire model. Furthermore, for simplicity purposes, we will ignore biases as well."
   ]
  },
  {
   "cell_type": "code",
   "execution_count": 16,
   "metadata": {
    "colab": {
     "base_uri": "https://localhost:8080/"
    },
    "id": "g_v9rcZZKyoj",
    "outputId": "c8dba6c2-c0fe-483a-d985-827cf5f69ec5"
   },
   "outputs": [
    {
     "name": "stdout",
     "output_type": "stream",
     "text": [
      "Encoder attention scores before squashing with softmax:  tf.Tensor(\n",
      "[[ 0.0029506   0.00018701  0.00161977  0.00137073]\n",
      " [ 0.00234472  0.00278863 -0.00379714  0.00189936]\n",
      " [-0.00267961 -0.00285805  0.00077661 -0.00174674]\n",
      " [ 0.00393163  0.00082081 -0.00013    -0.00195994]], shape=(4, 4), dtype=float32) \n",
      "\n",
      "Encoder attention scores after squashing with softmax:  tf.Tensor(\n",
      "[[0.25035477 0.24966384 0.25002182 0.24995954]\n",
      " [0.25038338 0.25049454 0.24885026 0.2502719 ]\n",
      " [0.24973671 0.24969216 0.25060135 0.2499698 ]\n",
      " [0.25081727 0.25003824 0.24980061 0.2493439 ]], shape=(4, 4), dtype=float32) \n",
      "\n",
      "Weighted sum of values (mapped tokens in the input sequence) per each input token:  tf.Tensor(\n",
      "[[ 0.0471089   0.03868577  0.03769156 ... -0.00130187 -0.00374337\n",
      "  -0.01192828]\n",
      " [ 0.04714135  0.03871977  0.03767542 ... -0.00133909 -0.00377147\n",
      "  -0.01185468]\n",
      " [ 0.04707094  0.03862019  0.03768181 ... -0.00129842 -0.00378261\n",
      "  -0.01190998]\n",
      " [ 0.04711334  0.03872003  0.03771983 ... -0.00129753 -0.00371402\n",
      "  -0.01191782]], shape=(4, 300), dtype=float32) \n",
      "\n"
     ]
    }
   ],
   "source": [
    "import tensorflow as tf\n",
    "german_sentence=['Mir','gefiel','die','Vorlesung']\n",
    "english_sentence=['[START]','I','liked','the','lecture']\n",
    "\n",
    "embedded_input=tf.keras.initializers.RandomNormal()(shape=(len(german_sentence),300))\n",
    "embedded_output=tf.keras.initializers.RandomNormal()(shape=(len(english_sentence),300))\n",
    "\n",
    "#Encoder:\n",
    "d_model=embedded_input.shape[1]\n",
    "Mq_en=tf.keras.initializers.RandomNormal()(shape=(d_model,d_model))#Encoder query matrix weights\n",
    "Mk_en=tf.keras.initializers.RandomNormal()(shape=(d_model,d_model))#Encoder key matrix weights\n",
    "Mv_en=tf.keras.initializers.RandomNormal()(shape=(d_model,d_model))#Encoder value matrix weights\n",
    "\n",
    "Q_en=tf.matmul(embedded_input,Mq_en)\n",
    "K_en=tf.matmul(embedded_input,Mk_en)\n",
    "V_en=tf.matmul(embedded_input,Mv_en)\n",
    "Q_K_en=tf.matmul(Q_en,tf.transpose(K_en))  # raw attention scores\n",
    "scaled_Q_K_en=tf.math.divide(Q_K_en,tf.math.sqrt(tf.cast(d_model,dtype=tf.float32)))\n",
    "print('Encoder attention scores before squashing with softmax: ',scaled_Q_K_en,'\\n')\n",
    "attention_scores_en=tf.keras.activations.softmax(scaled_Q_K_en)\n",
    "print('Encoder attention scores after squashing with softmax: ',attention_scores_en,'\\n')\n",
    "weighted_V_en=tf.matmul(attention_scores_en,V_en)#output from one encoder self-attention head\n",
    "print('Weighted sum of values (mapped tokens in the input sequence) per each input token: ',weighted_V_en,'\\n')\n"
   ]
  },
  {
   "cell_type": "code",
   "execution_count": 17,
   "metadata": {},
   "outputs": [
    {
     "name": "stdout",
     "output_type": "stream",
     "text": [
      "Decoder (1. submodule) masked attention scores before squashing with softmax:  tf.Tensor(\n",
      "[[ 4.1507088e-04           -inf           -inf           -inf\n",
      "            -inf]\n",
      " [-9.1635837e-04 -3.0941074e-03           -inf           -inf\n",
      "            -inf]\n",
      " [ 4.9492369e-06  6.6878903e-04  1.5985947e-03           -inf\n",
      "            -inf]\n",
      " [ 1.3464728e-03 -1.6339974e-03  8.0908585e-04 -3.0594508e-03\n",
      "            -inf]\n",
      " [ 3.2037382e-03 -6.4314355e-04 -1.9926389e-03 -1.1941053e-03\n",
      "   2.5070719e-03]], shape=(5, 5), dtype=float32) \n",
      "\n",
      "Decoder (1. submodule) attention scores after squashing with softmax:  tf.Tensor(\n",
      "[[1.         0.         0.         0.         0.        ]\n",
      " [0.5005444  0.49945554 0.         0.         0.        ]\n",
      " [0.3330825  0.33330372 0.33361375 0.         0.        ]\n",
      " [0.2504953  0.24974982 0.25036076 0.24939407 0.        ]\n",
      " [0.20056589 0.19979581 0.19952637 0.19968577 0.2004262 ]], shape=(5, 5), dtype=float32) \n",
      "\n",
      "Weighted sum of values (mapped tokens in the output sequence) per each output token:  tf.Tensor(\n",
      "[[ 0.02344378  0.00469215 -0.01910652 ... -0.08746602 -0.01966594\n",
      "  -0.01482985]\n",
      " [ 0.00540044  0.01211486  0.01498939 ... -0.02675102 -0.02191775\n",
      "   0.03510496]\n",
      " [ 0.01303758 -0.00135637  0.01290521 ...  0.00922152 -0.02155407\n",
      "   0.02099092]\n",
      " [ 0.02070375 -0.00061856 -0.00311782 ...  0.01028064 -0.01020753\n",
      "   0.01730852]\n",
      " [ 0.01581438  0.00307113  0.00041903 ...  0.00697289 -0.0090615\n",
      "   0.00934737]], shape=(5, 300), dtype=float32) \n",
      "\n",
      "Decoder (2. submodule) attention scores before squashing with softmax:  tf.Tensor(\n",
      "[[-0.00056256 -0.0005649  -0.00056158 -0.00056275]\n",
      " [ 0.0005386   0.00053652  0.00053935  0.00053869]\n",
      " [ 0.00022221  0.00022248  0.0002223   0.00022277]\n",
      " [ 0.00016082  0.00016161  0.00016039  0.00016164]\n",
      " [ 0.00032209  0.00032214  0.00032201  0.00032254]], shape=(5, 4), dtype=float32) \n",
      "\n",
      "Decoder (2. submodule) attention scores after squashing with softmax:  tf.Tensor(\n",
      "[[0.25000012 0.24999952 0.25000036 0.25000006]\n",
      " [0.25000006 0.24999955 0.25000027 0.2500001 ]\n",
      " [0.24999996 0.25       0.24999997 0.2500001 ]\n",
      " [0.24999994 0.25000012 0.24999984 0.25000015]\n",
      " [0.24999997 0.24999999 0.24999996 0.2500001 ]], shape=(5, 4), dtype=float32) \n",
      "\n",
      "Weighted sum of values (mapped tokens in the input sequence) per each output token:  tf.Tensor(\n",
      "[[-0.00772191 -0.00760447 -0.01797235 ... -0.00479143 -0.03396699\n",
      "  -0.00722148]\n",
      " [-0.00772191 -0.00760447 -0.01797235 ... -0.00479143 -0.03396698\n",
      "  -0.00722148]\n",
      " [-0.00772191 -0.00760447 -0.01797235 ... -0.00479143 -0.03396699\n",
      "  -0.00722148]\n",
      " [-0.00772191 -0.00760447 -0.01797235 ... -0.00479143 -0.03396699\n",
      "  -0.00722148]\n",
      " [-0.00772191 -0.00760447 -0.01797235 ... -0.00479143 -0.03396699\n",
      "  -0.00722148]], shape=(5, 300), dtype=float32)\n"
     ]
    }
   ],
   "source": [
    "\n",
    "\n",
    "#Decoder:\n",
    "#1.Submodule:\n",
    "Mq_fm_de=tf.keras.initializers.RandomNormal()(shape=(d_model,d_model))#Decoder (1.submodule) query matrix weights\n",
    "Mk_fm_de=tf.keras.initializers.RandomNormal()(shape=(d_model,d_model))#Decoder (1.submodule) key matrix weights\n",
    "Mv_fm_de=tf.keras.initializers.RandomNormal()(shape=(d_model,d_model))#Decoder (1.submodule) value matrix weights\n",
    "\n",
    "Q_fm_de=tf.matmul(embedded_output,Mq_fm_de)\n",
    "K_fm_de=tf.matmul(embedded_output,Mk_fm_de)\n",
    "V_fm_de=tf.matmul(embedded_output,Mv_fm_de)\n",
    "Q_K_fm_de=tf.matmul(Q_fm_de,tf.transpose(K_fm_de))\n",
    "scaled_Q_K_fm_de=tf.math.divide(Q_K_fm_de,tf.math.sqrt(tf.cast(d_model,dtype=tf.float32)))\n",
    "masked_Q_K_fm_de=tf.where(tf.linalg.band_part(scaled_Q_K_fm_de,\n",
    "                                              num_lower=-1,\n",
    "                                              num_upper=0)==0.0,tf.constant(-np.inf),scaled_Q_K_fm_de)\n",
    "\n",
    "print('Decoder (1. submodule) masked attention scores before squashing with softmax: ',masked_Q_K_fm_de,'\\n')\n",
    "attention_scores_fm_de=tf.keras.activations.softmax(masked_Q_K_fm_de)\n",
    "print('Decoder (1. submodule) attention scores after squashing with softmax: ',attention_scores_fm_de,'\\n')\n",
    "weighted_V_fm_de=tf.matmul(attention_scores_fm_de,V_fm_de)#output from one decoder (1. submodule) self-attention head\n",
    "#the output from the frist module of the decoder becomes the query for the next module in the decoder\n",
    "print('Weighted sum of values (mapped tokens in the output sequence) per each output token: ',weighted_V_fm_de,'\\n')\n",
    "\n",
    "#2.Submodule:\n",
    "Mq_sm_de=tf.keras.initializers.RandomNormal()(shape=(d_model,d_model))#Decoder (2.submodule) query matrix weights\n",
    "Mk_sm_de=tf.keras.initializers.RandomNormal()(shape=(d_model,d_model))#Decoder (2.submodule) key matrix weights\n",
    "Mv_sm_de=tf.keras.initializers.RandomNormal()(shape=(d_model,d_model))#Decoder (2.submodule) value matrix weights\n",
    "\n",
    "Q_sm_de=tf.matmul(weighted_V_fm_de,Mq_sm_de)#the query matrix in the 2. submodule of the decoder: computed using the\n",
    "#output from the 1. submodule\n",
    "K_sm_de=tf.matmul(weighted_V_en,Mk_sm_de)\n",
    "V_sm_de=tf.matmul(weighted_V_en,Mv_sm_de)\n",
    "#the key and value matrix in the 2. submodule of the decoder: computed using the encoder output\n",
    "Q_K_sm_de=tf.matmul(Q_sm_de,tf.transpose(K_sm_de))\n",
    "scaled_Q_K_sm_de=tf.math.divide(Q_K_sm_de,tf.math.sqrt(tf.cast(d_model,dtype=tf.float32)))\n",
    "print('Decoder (2. submodule) attention scores before squashing with softmax: ',scaled_Q_K_sm_de,'\\n')\n",
    "attention_scores_sm_de=tf.keras.activations.softmax(scaled_Q_K_sm_de)\n",
    "print('Decoder (2. submodule) attention scores after squashing with softmax: ',attention_scores_sm_de,'\\n')\n",
    "weighted_V_sm_de=tf.matmul(attention_scores_sm_de,V_sm_de)#output from one decoder (2. submodule) self-attention head\n",
    "print('Weighted sum of values (mapped tokens in the input sequence) per each output token: ',weighted_V_sm_de)"
   ]
  },
  {
   "cell_type": "markdown",
   "metadata": {
    "id": "gboIcX8X-QHg"
   },
   "source": [
    "## Exercise 3 (demonstration of BERT model use)\n",
    "In this exericise you will use a pre-trained BERT model. You will load the model and than do some fine tuning on the model weights. We recommend to do the exercise in Google Colab because we faced some errors when loading the transformer packages on our own environment. The exercise follows the original tuturial [TF-Tutorial](https://www.tensorflow.org/text/tutorials/classify_text_with_bert).\n",
    "\n",
    "The BERT classifier draws on the transformer architecture, which we discussed in the lecture. In a nutshell, BERT uses only the encoder stack of the transformer and adds a *classification head* consisting of a vanilla feedforward network with suitable outlayer and output activation (i.e., logistic for binary classification or softmax for multi-class settings). For further details on BERT, we recommend the following tutorial, which gives an excellent illustration of BERT and some of its predecessors [The Illustrated BERT, ELMo, and co.](https://jalammar.github.io/illustrated-bert/).   "
   ]
  },
  {
   "cell_type": "markdown",
   "metadata": {
    "id": "IN6Nz17SJJVi"
   },
   "source": [
    "### Install transformers\n",
    "Unlike many other libraries, Colab does not have the transformers package pre-installed. You will have to install it every time that you start Colab again. This is the package where you will find most of the critical tools for BERT including the pre-trained models and tokenizer."
   ]
  },
  {
   "cell_type": "code",
   "execution_count": null,
   "metadata": {
    "colab": {
     "base_uri": "https://localhost:8080/"
    },
    "id": "zR0LXCwYHP8l",
    "outputId": "eff7b756-5ad8-47b1-cc10-a6d85d37d122"
   },
   "outputs": [
    {
     "name": "stdout",
     "output_type": "stream",
     "text": [
      "\u001b[2K     \u001b[90m━━━━━━━━━━━━━━━━━━━━━━━━━━━━━━━━━━━━━━━━\u001b[0m \u001b[32m4.9/4.9 MB\u001b[0m \u001b[31m29.0 MB/s\u001b[0m eta \u001b[36m0:00:00\u001b[0m\n",
      "\u001b[2K     \u001b[90m━━━━━━━━━━━━━━━━━━━━━━━━━━━━━━━━━━━━━━━\u001b[0m \u001b[32m498.1/498.1 MB\u001b[0m \u001b[31m2.7 MB/s\u001b[0m eta \u001b[36m0:00:00\u001b[0m\n",
      "\u001b[2K     \u001b[90m━━━━━━━━━━━━━━━━━━━━━━━━━━━━━━━━━━━━━━━━\u001b[0m \u001b[32m42.6/42.6 kB\u001b[0m \u001b[31m4.5 MB/s\u001b[0m eta \u001b[36m0:00:00\u001b[0m\n",
      "\u001b[2K     \u001b[90m━━━━━━━━━━━━━━━━━━━━━━━━━━━━━━━━━━━━━━━━\u001b[0m \u001b[32m1.1/1.1 MB\u001b[0m \u001b[31m18.6 MB/s\u001b[0m eta \u001b[36m0:00:00\u001b[0m\n",
      "\u001b[2K     \u001b[90m━━━━━━━━━━━━━━━━━━━━━━━━━━━━━━━━━━━━━━━━\u001b[0m \u001b[32m5.8/5.8 MB\u001b[0m \u001b[31m65.7 MB/s\u001b[0m eta \u001b[36m0:00:00\u001b[0m\n",
      "\u001b[2K     \u001b[90m━━━━━━━━━━━━━━━━━━━━━━━━━━━━━━━━━━━━━━\u001b[0m \u001b[32m462.3/462.3 kB\u001b[0m \u001b[31m18.1 MB/s\u001b[0m eta \u001b[36m0:00:00\u001b[0m\n",
      "\u001b[2K     \u001b[90m━━━━━━━━━━━━━━━━━━━━━━━━━━━━━━━━━━━━━━━━\u001b[0m \u001b[32m1.4/1.4 MB\u001b[0m \u001b[31m15.4 MB/s\u001b[0m eta \u001b[36m0:00:00\u001b[0m\n",
      "\u001b[2K     \u001b[90m━━━━━━━━━━━━━━━━━━━━━━━━━━━━━━━━━━━━━━━━\u001b[0m \u001b[32m4.9/4.9 MB\u001b[0m \u001b[31m75.2 MB/s\u001b[0m eta \u001b[36m0:00:00\u001b[0m\n",
      "\u001b[2K     \u001b[90m━━━━━━━━━━━━━━━━━━━━━━━━━━━━━━━━━━━━━━\u001b[0m \u001b[32m781.3/781.3 kB\u001b[0m \u001b[31m13.5 MB/s\u001b[0m eta \u001b[36m0:00:00\u001b[0m\n",
      "\u001b[?25h\u001b[31mERROR: pip's dependency resolver does not currently take into account all the packages that are installed. This behaviour is the source of the following dependency conflicts.\n",
      "tensorflow-datasets 4.9.2 requires protobuf>=3.20, but you have protobuf 3.19.6 which is incompatible.\n",
      "tensorflow-metadata 1.13.1 requires protobuf<5,>=3.20.3, but you have protobuf 3.19.6 which is incompatible.\u001b[0m\u001b[31m\n",
      "\u001b[0m"
     ]
    }
   ],
   "source": [
    "!pip install -q -U \"tensorflow-text==2.8.*\""
   ]
  },
  {
   "cell_type": "code",
   "execution_count": null,
   "metadata": {
    "colab": {
     "base_uri": "https://localhost:8080/"
    },
    "id": "omuo6DMTVNPQ",
    "outputId": "d9f3b24c-c2e7-40bc-c36f-bffd7d8e3682"
   },
   "outputs": [
    {
     "name": "stdout",
     "output_type": "stream",
     "text": [
      "\u001b[2K     \u001b[90m━━━━━━━━━━━━━━━━━━━━━━━━━━━━━━━━━━━━━━━━\u001b[0m \u001b[32m1.8/1.8 MB\u001b[0m \u001b[31m20.0 MB/s\u001b[0m eta \u001b[36m0:00:00\u001b[0m\n",
      "\u001b[2K     \u001b[90m━━━━━━━━━━━━━━━━━━━━━━━━━━━━━━━━━━━━━━\u001b[0m \u001b[32m118.9/118.9 kB\u001b[0m \u001b[31m10.9 MB/s\u001b[0m eta \u001b[36m0:00:00\u001b[0m\n",
      "\u001b[2K     \u001b[90m━━━━━━━━━━━━━━━━━━━━━━━━━━━━━━━━━━━━━━━━\u001b[0m \u001b[32m1.3/1.3 MB\u001b[0m \u001b[31m41.3 MB/s\u001b[0m eta \u001b[36m0:00:00\u001b[0m\n",
      "\u001b[2K     \u001b[90m━━━━━━━━━━━━━━━━━━━━━━━━━━━━━━━━━━━━━━━━\u001b[0m \u001b[32m43.6/43.6 kB\u001b[0m \u001b[31m4.1 MB/s\u001b[0m eta \u001b[36m0:00:00\u001b[0m\n",
      "\u001b[?25h  Preparing metadata (setup.py) ... \u001b[?25l\u001b[?25hdone\n",
      "\u001b[2K     \u001b[90m━━━━━━━━━━━━━━━━━━━━━━━━━━━━━━━━━━━━━━\u001b[0m \u001b[32m591.0/591.0 kB\u001b[0m \u001b[31m47.8 MB/s\u001b[0m eta \u001b[36m0:00:00\u001b[0m\n",
      "\u001b[2K     \u001b[90m━━━━━━━━━━━━━━━━━━━━━━━━━━━━━━━━━━━━━━\u001b[0m \u001b[32m241.2/241.2 kB\u001b[0m \u001b[31m25.0 MB/s\u001b[0m eta \u001b[36m0:00:00\u001b[0m\n",
      "\u001b[2K     \u001b[90m━━━━━━━━━━━━━━━━━━━━━━━━━━━━━━━━━━━━━━━━\u001b[0m \u001b[32m17.6/17.6 MB\u001b[0m \u001b[31m24.0 MB/s\u001b[0m eta \u001b[36m0:00:00\u001b[0m\n",
      "\u001b[2K     \u001b[90m━━━━━━━━━━━━━━━━━━━━━━━━━━━━━━━━━━━━━━━━\u001b[0m \u001b[32m5.4/5.4 MB\u001b[0m \u001b[31m99.6 MB/s\u001b[0m eta \u001b[36m0:00:00\u001b[0m\n",
      "\u001b[2K     \u001b[90m━━━━━━━━━━━━━━━━━━━━━━━━━━━━━━━━━━━━━━━━\u001b[0m \u001b[32m5.4/5.4 MB\u001b[0m \u001b[31m107.7 MB/s\u001b[0m eta \u001b[36m0:00:00\u001b[0m\n",
      "\u001b[2K     \u001b[90m━━━━━━━━━━━━━━━━━━━━━━━━━━━━━━━━━━━━━━━━\u001b[0m \u001b[32m53.3/53.3 kB\u001b[0m \u001b[31m4.9 MB/s\u001b[0m eta \u001b[36m0:00:00\u001b[0m\n",
      "\u001b[?25h  Building wheel for seqeval (setup.py) ... \u001b[?25l\u001b[?25hdone\n",
      "\u001b[31mERROR: pip's dependency resolver does not currently take into account all the packages that are installed. This behaviour is the source of the following dependency conflicts.\n",
      "numba 0.56.4 requires numpy<1.24,>=1.18, but you have numpy 1.25.0 which is incompatible.\u001b[0m\u001b[31m\n",
      "\u001b[0m"
     ]
    }
   ],
   "source": [
    "!pip install -q tf-models-official==2.7.0"
   ]
  },
  {
   "cell_type": "markdown",
   "metadata": {
    "id": "CVTDahv-JdeH"
   },
   "source": [
    "### Import libraries\n",
    "Now that you have the transfomers library on hand, it will be necessary to import it and the rest of the libraries that you will need in the task. Here we will need tensorflow, pandas, OS and shutil for basic tasks and also specific parts of the transformers package for BERT."
   ]
  },
  {
   "cell_type": "code",
   "execution_count": 18,
   "metadata": {
    "colab": {
     "base_uri": "https://localhost:8080/"
    },
    "id": "XVObl75mHYU1",
    "outputId": "3a8c3901-cb77-4db1-ff13-7be762fc3622"
   },
   "outputs": [],
   "source": [
    "import os\n",
    "import shutil\n",
    "\n",
    "import tensorflow as tf\n",
    "import tensorflow_hub as hub # for BERT models\n",
    "#import tensorflow_text as text\n",
    "#from official.nlp import optimization  # for AdamW optimizer\n",
    "\n",
    "import matplotlib.pyplot as plt\n",
    "\n",
    "tf.get_logger().setLevel('ERROR')"
   ]
  },
  {
   "cell_type": "markdown",
   "metadata": {
    "id": "g0Zn8NeZJ0DK"
   },
   "source": [
    "### Load and set up the dataset\n",
    "\n",
    "In this task, we will be using the IMDB reviews dataset. Unlike in the previous exercises, we download the data and store it in a directory."
   ]
  },
  {
   "cell_type": "code",
   "execution_count": 4,
   "metadata": {
    "colab": {
     "base_uri": "https://localhost:8080/"
    },
    "id": "ydnor2r4K22n",
    "outputId": "88684165-fb77-4d8d-c696-9f5a95c689b3"
   },
   "outputs": [
    {
     "name": "stdout",
     "output_type": "stream",
     "text": [
      "Downloading data from https://ai.stanford.edu/~amaas/data/sentiment/aclImdb_v1.tar.gz\n",
      "84131840/84125825 [==============================] - 4s 0us/step\n",
      "84140032/84125825 [==============================] - 4s 0us/step\n"
     ]
    }
   ],
   "source": [
    "url = 'https://ai.stanford.edu/~amaas/data/sentiment/aclImdb_v1.tar.gz'\n",
    "\n",
    "#Dowloading data using tf.keras.utils.get_file:\n",
    "df = tf.keras.utils.get_file('aclImdb_v1.tar.gz', url,\n",
    "                                  untar=True, cache_dir='./New_Data',#which subfolder of content folder to choose\n",
    "                                  cache_subdir='Other')#which subfolder of cache_dir folder to create to save the file in:\n",
    "                                  #should not be created in advance.\n",
    "#/content is the root folder of Google Colab and all files that you download will either be saved in content, or in a subfolder of content.\n"
   ]
  },
  {
   "cell_type": "code",
   "execution_count": null,
   "metadata": {
    "colab": {
     "base_uri": "https://localhost:8080/"
    },
    "id": "7PdO69tUHUJd",
    "outputId": "8ce1d225-e1d9-4f76-f11d-4a0d2d82f31c"
   },
   "outputs": [],
   "source": [
    "df_dir = os.path.join(os.path.dirname(df), 'aclImdb')\n",
    "X_train_dir = os.path.join(df_dir, 'train')\n",
    "X_test_dir = os.path.join(df_dir, 'test')\n",
    "\n",
    "# we only need labeled data (data for supervised learning), so we can remove the unsupervised folder\n",
    "remove_dir = os.path.join(X_train_dir, 'unsup')\n",
    "shutil.rmtree(remove_dir)\n",
    "#shutil offers high-level operations on files."
   ]
  },
  {
   "cell_type": "markdown",
   "metadata": {
    "id": "e_uktomnWxT5"
   },
   "source": [
    "BERT is going to take up a lot of processing power. It is highly advisable to organize your data into batches so that the amount of data that you are working with is manageable. For now, we will set the size of the batches of data that we will take to 32. You can experiment with this number when working with the program for later tasks."
   ]
  },
  {
   "cell_type": "code",
   "execution_count": 7,
   "metadata": {
    "id": "fSaj23L2XDll"
   },
   "outputs": [],
   "source": [
    "batch_size = 32"
   ]
  },
  {
   "cell_type": "markdown",
   "metadata": {
    "id": "5wzMxyhMXJBq"
   },
   "source": [
    "\n",
    "Note that the function [prefetch](https://www.tensorflow.org/guide/data_performance#prefetching) is just used to prepare the data as the machine would expect to receive it. It is normally used to make sure that the next batch of data is ready for use."
   ]
  },
  {
   "cell_type": "code",
   "execution_count": 8,
   "metadata": {
    "colab": {
     "base_uri": "https://localhost:8080/"
    },
    "id": "hXuV_TD5OVAn",
    "outputId": "b492c009-8b19-4067-e3a4-39550941aa2e"
   },
   "outputs": [
    {
     "name": "stdout",
     "output_type": "stream",
     "text": [
      "Found 25000 files belonging to 2 classes.\n",
      "Using 20000 files for training.\n"
     ]
    }
   ],
   "source": [
    "# set seed for reproducibility in train-test split\n",
    "seed = 888\n",
    "\n",
    "# Create the pre-processing train df and create a seperate subset training only\n",
    "X_train_raw = tf.keras.preprocessing.text_dataset_from_directory(\n",
    "    X_train_dir,\n",
    "    batch_size=batch_size,\n",
    "    validation_split=0.2,\n",
    "    subset='training',\n",
    "    seed=seed)"
   ]
  },
  {
   "cell_type": "code",
   "execution_count": 33,
   "metadata": {
    "colab": {
     "base_uri": "https://localhost:8080/"
    },
    "id": "lcz48LGgHdAv",
    "outputId": "2c49e00a-0d05-4a00-fc28-e4fd9037027b"
   },
   "outputs": [
    {
     "name": "stdout",
     "output_type": "stream",
     "text": [
      "Found 25000 files belonging to 2 classes.\n",
      "Using 5000 files for validation.\n",
      "Found 25000 files belonging to 2 classes.\n"
     ]
    }
   ],
   "source": [
    "#Caching files: https://www.tensorflow.org/guide/data_performance\n",
    "#Without using the caching function, at the beginning of every epoch, tensorflow will open a file containing your data,\n",
    "#will then read the data from that file, and only then use it for the forward and backward pass,\n",
    "#while opening the file & reading the data: your model is in 'waiting' mode, this computational time can be optimized with caching!\n",
    "#put in simple and intuitive terms:\n",
    "#imagine you need some book from the library when studying for one specific exam. This book you want to open and read information from\n",
    "# frequently while preparing for the exam. Thus, it makes sense instead of keeping this book in the library, to store it on your desk at home.\n",
    "#Then, your desk becomes your cache!\n",
    "#On the software side, caches are everywhere: operating systems, browsers, DNS, databases etc, and are always used for the same purpose:\n",
    "#store data in fast memory so that it can be retrieved quicker later on.\n",
    "\n",
    "X_train = X_train_raw.cache().prefetch(buffer_size=tf.data.AUTOTUNE)\n",
    "#Prefetching:\n",
    "#In addition to CPU and RAM, Colab also offers access to GPUs and TPUs for machine learning tasks. GPU is used to perform the forward\n",
    "#and the backward pass. While the GPU is working, we want the CPU to be processing the next batch/batches of data so that by\n",
    "#the time the GPU is ready with the backward pass, we can start the forward and backward pass of the next batch of data immediately.\n",
    "#In this way, we make sure to be using the GPU fully all the time during the training. This behaviour is called consumer-producer behaviour,\n",
    "#where the CPU is producer of the data, and the GPU is the consumer of the output from the CPU. With prefetch(1) we would always prepare\n",
    "#the next batch of data. Sometimes, we would like to have several batches of data ready in advance. Thus, best to pass tf.data.AUTOTUNE\n",
    "#to the parameter buffer_size of prefetch() in order to let tensorflow tune the value which optimizes the performance.\n",
    "\n",
    "\n",
    "# Take the validation data subset for processing\n",
    "X_val = tf.keras.preprocessing.text_dataset_from_directory(\n",
    "    X_train_dir,\n",
    "    batch_size=batch_size,\n",
    "    validation_split=0.2,\n",
    "    subset='validation',\n",
    "    seed=seed)\n",
    "\n",
    "X_val = X_val.cache().prefetch(buffer_size=tf.data.AUTOTUNE)\n",
    "\n",
    "# Prepare the test data for processing\n",
    "X_test = tf.keras.preprocessing.text_dataset_from_directory(\n",
    "    X_test_dir,\n",
    "    batch_size=batch_size,\n",
    "    seed=seed)\n",
    "\n",
    "X_test = X_test.cache().prefetch(buffer_size=tf.data.AUTOTUNE)"
   ]
  },
  {
   "cell_type": "markdown",
   "metadata": {
    "id": "iQrm27jOfLad"
   },
   "source": [
    "### Load a BERT model\n",
    "\n",
    "You can explore a [large list of versions of BERT here](https://huggingface.co/models). These pretrained versions of BERT differ mainly in size and/or the topics of text. Using specific versions of BERT can sometimes help with the performance of your model, though this is not always the case. It is a very good idea to test several versions of BERT for your purposes to see which one is optimal for your situation. For our purposes, we will use a small uncased BERT. Here, uncased means that BERT will ignore capitalization and small means that BERT will only take shorter inputs.\n",
    "\n",
    "As the BERT model needs input of a specific format, we also need to load a customized pre-processor, which converts the text in exactly the right format."
   ]
  },
  {
   "cell_type": "code",
   "execution_count": 34,
   "metadata": {
    "id": "87osaWAScP8N"
   },
   "outputs": [],
   "source": [
    "## load the preprocessor\n",
    "bert_preprocessor = hub.KerasLayer('https://tfhub.dev/tensorflow/bert_en_uncased_preprocess/3')\n",
    "\n",
    "## load the BERT model\n",
    "bert_model = hub.KerasLayer('https://tfhub.dev/tensorflow/small_bert/bert_en_uncased_L-4_H-512_A-8/1',trainable=True)"
   ]
  },
  {
   "cell_type": "code",
   "execution_count": 19,
   "metadata": {},
   "outputs": [
    {
     "ename": "OSError",
     "evalue": "https://huggingface.co/larslorch/avici does not appear to be a valid module.",
     "output_type": "error",
     "traceback": [
      "\u001b[1;31m---------------------------------------------------------------------------\u001b[0m",
      "\u001b[1;31mValueError\u001b[0m                                Traceback (most recent call last)",
      "\u001b[1;32m~\\anaconda3\\lib\\tarfile.py\u001b[0m in \u001b[0;36mnti\u001b[1;34m(s)\u001b[0m\n\u001b[0;32m    186\u001b[0m             \u001b[0ms\u001b[0m \u001b[1;33m=\u001b[0m \u001b[0mnts\u001b[0m\u001b[1;33m(\u001b[0m\u001b[0ms\u001b[0m\u001b[1;33m,\u001b[0m \u001b[1;34m\"ascii\"\u001b[0m\u001b[1;33m,\u001b[0m \u001b[1;34m\"strict\"\u001b[0m\u001b[1;33m)\u001b[0m\u001b[1;33m\u001b[0m\u001b[1;33m\u001b[0m\u001b[0m\n\u001b[1;32m--> 187\u001b[1;33m             \u001b[0mn\u001b[0m \u001b[1;33m=\u001b[0m \u001b[0mint\u001b[0m\u001b[1;33m(\u001b[0m\u001b[0ms\u001b[0m\u001b[1;33m.\u001b[0m\u001b[0mstrip\u001b[0m\u001b[1;33m(\u001b[0m\u001b[1;33m)\u001b[0m \u001b[1;32mor\u001b[0m \u001b[1;34m\"0\"\u001b[0m\u001b[1;33m,\u001b[0m \u001b[1;36m8\u001b[0m\u001b[1;33m)\u001b[0m\u001b[1;33m\u001b[0m\u001b[1;33m\u001b[0m\u001b[0m\n\u001b[0m\u001b[0;32m    188\u001b[0m         \u001b[1;32mexcept\u001b[0m \u001b[0mValueError\u001b[0m\u001b[1;33m:\u001b[0m\u001b[1;33m\u001b[0m\u001b[1;33m\u001b[0m\u001b[0m\n",
      "\u001b[1;31mValueError\u001b[0m: invalid literal for int() with base 8: 'able=no\"'",
      "\nDuring handling of the above exception, another exception occurred:\n",
      "\u001b[1;31mInvalidHeaderError\u001b[0m                        Traceback (most recent call last)",
      "\u001b[1;32m~\\anaconda3\\lib\\tarfile.py\u001b[0m in \u001b[0;36mnext\u001b[1;34m(self)\u001b[0m\n\u001b[0;32m   2335\u001b[0m             \u001b[1;32mtry\u001b[0m\u001b[1;33m:\u001b[0m\u001b[1;33m\u001b[0m\u001b[1;33m\u001b[0m\u001b[0m\n\u001b[1;32m-> 2336\u001b[1;33m                 \u001b[0mtarinfo\u001b[0m \u001b[1;33m=\u001b[0m \u001b[0mself\u001b[0m\u001b[1;33m.\u001b[0m\u001b[0mtarinfo\u001b[0m\u001b[1;33m.\u001b[0m\u001b[0mfromtarfile\u001b[0m\u001b[1;33m(\u001b[0m\u001b[0mself\u001b[0m\u001b[1;33m)\u001b[0m\u001b[1;33m\u001b[0m\u001b[1;33m\u001b[0m\u001b[0m\n\u001b[0m\u001b[0;32m   2337\u001b[0m             \u001b[1;32mexcept\u001b[0m \u001b[0mEOFHeaderError\u001b[0m \u001b[1;32mas\u001b[0m \u001b[0me\u001b[0m\u001b[1;33m:\u001b[0m\u001b[1;33m\u001b[0m\u001b[1;33m\u001b[0m\u001b[0m\n",
      "\u001b[1;32m~\\anaconda3\\lib\\tarfile.py\u001b[0m in \u001b[0;36mfromtarfile\u001b[1;34m(cls, tarfile)\u001b[0m\n\u001b[0;32m   1121\u001b[0m         \u001b[0mbuf\u001b[0m \u001b[1;33m=\u001b[0m \u001b[0mtarfile\u001b[0m\u001b[1;33m.\u001b[0m\u001b[0mfileobj\u001b[0m\u001b[1;33m.\u001b[0m\u001b[0mread\u001b[0m\u001b[1;33m(\u001b[0m\u001b[0mBLOCKSIZE\u001b[0m\u001b[1;33m)\u001b[0m\u001b[1;33m\u001b[0m\u001b[1;33m\u001b[0m\u001b[0m\n\u001b[1;32m-> 1122\u001b[1;33m         \u001b[0mobj\u001b[0m \u001b[1;33m=\u001b[0m \u001b[0mcls\u001b[0m\u001b[1;33m.\u001b[0m\u001b[0mfrombuf\u001b[0m\u001b[1;33m(\u001b[0m\u001b[0mbuf\u001b[0m\u001b[1;33m,\u001b[0m \u001b[0mtarfile\u001b[0m\u001b[1;33m.\u001b[0m\u001b[0mencoding\u001b[0m\u001b[1;33m,\u001b[0m \u001b[0mtarfile\u001b[0m\u001b[1;33m.\u001b[0m\u001b[0merrors\u001b[0m\u001b[1;33m)\u001b[0m\u001b[1;33m\u001b[0m\u001b[1;33m\u001b[0m\u001b[0m\n\u001b[0m\u001b[0;32m   1123\u001b[0m         \u001b[0mobj\u001b[0m\u001b[1;33m.\u001b[0m\u001b[0moffset\u001b[0m \u001b[1;33m=\u001b[0m \u001b[0mtarfile\u001b[0m\u001b[1;33m.\u001b[0m\u001b[0mfileobj\u001b[0m\u001b[1;33m.\u001b[0m\u001b[0mtell\u001b[0m\u001b[1;33m(\u001b[0m\u001b[1;33m)\u001b[0m \u001b[1;33m-\u001b[0m \u001b[0mBLOCKSIZE\u001b[0m\u001b[1;33m\u001b[0m\u001b[1;33m\u001b[0m\u001b[0m\n",
      "\u001b[1;32m~\\anaconda3\\lib\\tarfile.py\u001b[0m in \u001b[0;36mfrombuf\u001b[1;34m(cls, buf, encoding, errors)\u001b[0m\n\u001b[0;32m   1063\u001b[0m \u001b[1;33m\u001b[0m\u001b[0m\n\u001b[1;32m-> 1064\u001b[1;33m         \u001b[0mchksum\u001b[0m \u001b[1;33m=\u001b[0m \u001b[0mnti\u001b[0m\u001b[1;33m(\u001b[0m\u001b[0mbuf\u001b[0m\u001b[1;33m[\u001b[0m\u001b[1;36m148\u001b[0m\u001b[1;33m:\u001b[0m\u001b[1;36m156\u001b[0m\u001b[1;33m]\u001b[0m\u001b[1;33m)\u001b[0m\u001b[1;33m\u001b[0m\u001b[1;33m\u001b[0m\u001b[0m\n\u001b[0m\u001b[0;32m   1065\u001b[0m         \u001b[1;32mif\u001b[0m \u001b[0mchksum\u001b[0m \u001b[1;32mnot\u001b[0m \u001b[1;32min\u001b[0m \u001b[0mcalc_chksums\u001b[0m\u001b[1;33m(\u001b[0m\u001b[0mbuf\u001b[0m\u001b[1;33m)\u001b[0m\u001b[1;33m:\u001b[0m\u001b[1;33m\u001b[0m\u001b[1;33m\u001b[0m\u001b[0m\n",
      "\u001b[1;32m~\\anaconda3\\lib\\tarfile.py\u001b[0m in \u001b[0;36mnti\u001b[1;34m(s)\u001b[0m\n\u001b[0;32m    188\u001b[0m         \u001b[1;32mexcept\u001b[0m \u001b[0mValueError\u001b[0m\u001b[1;33m:\u001b[0m\u001b[1;33m\u001b[0m\u001b[1;33m\u001b[0m\u001b[0m\n\u001b[1;32m--> 189\u001b[1;33m             \u001b[1;32mraise\u001b[0m \u001b[0mInvalidHeaderError\u001b[0m\u001b[1;33m(\u001b[0m\u001b[1;34m\"invalid header\"\u001b[0m\u001b[1;33m)\u001b[0m\u001b[1;33m\u001b[0m\u001b[1;33m\u001b[0m\u001b[0m\n\u001b[0m\u001b[0;32m    190\u001b[0m     \u001b[1;32mreturn\u001b[0m \u001b[0mn\u001b[0m\u001b[1;33m\u001b[0m\u001b[1;33m\u001b[0m\u001b[0m\n",
      "\u001b[1;31mInvalidHeaderError\u001b[0m: invalid header",
      "\nDuring handling of the above exception, another exception occurred:\n",
      "\u001b[1;31mReadError\u001b[0m                                 Traceback (most recent call last)",
      "\u001b[1;32m~\\anaconda3\\lib\\site-packages\\tensorflow_hub\\resolver.py\u001b[0m in \u001b[0;36mdownload_and_uncompress\u001b[1;34m(self, fileobj, dst_path)\u001b[0m\n\u001b[0;32m    191\u001b[0m     \u001b[1;32mtry\u001b[0m\u001b[1;33m:\u001b[0m\u001b[1;33m\u001b[0m\u001b[1;33m\u001b[0m\u001b[0m\n\u001b[1;32m--> 192\u001b[1;33m       file_utils.extract_tarfile_to_destination(\n\u001b[0m\u001b[0;32m    193\u001b[0m           fileobj, dst_path, log_function=self._log_progress)\n",
      "\u001b[1;32m~\\anaconda3\\lib\\site-packages\\tensorflow_hub\\file_utils.py\u001b[0m in \u001b[0;36mextract_tarfile_to_destination\u001b[1;34m(fileobj, dst_path, log_function)\u001b[0m\n\u001b[0;32m     46\u001b[0m   \u001b[1;34m\"\"\"Extract a tarfile. Optional: log the progress.\"\"\"\u001b[0m\u001b[1;33m\u001b[0m\u001b[1;33m\u001b[0m\u001b[0m\n\u001b[1;32m---> 47\u001b[1;33m   \u001b[1;32mwith\u001b[0m \u001b[0mtarfile\u001b[0m\u001b[1;33m.\u001b[0m\u001b[0mopen\u001b[0m\u001b[1;33m(\u001b[0m\u001b[0mmode\u001b[0m\u001b[1;33m=\u001b[0m\u001b[1;34m\"r|*\"\u001b[0m\u001b[1;33m,\u001b[0m \u001b[0mfileobj\u001b[0m\u001b[1;33m=\u001b[0m\u001b[0mfileobj\u001b[0m\u001b[1;33m)\u001b[0m \u001b[1;32mas\u001b[0m \u001b[0mtgz\u001b[0m\u001b[1;33m:\u001b[0m\u001b[1;33m\u001b[0m\u001b[1;33m\u001b[0m\u001b[0m\n\u001b[0m\u001b[0;32m     48\u001b[0m     \u001b[1;32mfor\u001b[0m \u001b[0mtarinfo\u001b[0m \u001b[1;32min\u001b[0m \u001b[0mtgz\u001b[0m\u001b[1;33m:\u001b[0m\u001b[1;33m\u001b[0m\u001b[1;33m\u001b[0m\u001b[0m\n",
      "\u001b[1;32m~\\anaconda3\\lib\\tarfile.py\u001b[0m in \u001b[0;36mopen\u001b[1;34m(cls, name, mode, fileobj, bufsize, **kwargs)\u001b[0m\n\u001b[0;32m   1649\u001b[0m             \u001b[1;32mtry\u001b[0m\u001b[1;33m:\u001b[0m\u001b[1;33m\u001b[0m\u001b[1;33m\u001b[0m\u001b[0m\n\u001b[1;32m-> 1650\u001b[1;33m                 \u001b[0mt\u001b[0m \u001b[1;33m=\u001b[0m \u001b[0mcls\u001b[0m\u001b[1;33m(\u001b[0m\u001b[0mname\u001b[0m\u001b[1;33m,\u001b[0m \u001b[0mfilemode\u001b[0m\u001b[1;33m,\u001b[0m \u001b[0mstream\u001b[0m\u001b[1;33m,\u001b[0m \u001b[1;33m**\u001b[0m\u001b[0mkwargs\u001b[0m\u001b[1;33m)\u001b[0m\u001b[1;33m\u001b[0m\u001b[1;33m\u001b[0m\u001b[0m\n\u001b[0m\u001b[0;32m   1651\u001b[0m             \u001b[1;32mexcept\u001b[0m\u001b[1;33m:\u001b[0m\u001b[1;33m\u001b[0m\u001b[1;33m\u001b[0m\u001b[0m\n",
      "\u001b[1;32m~\\anaconda3\\lib\\tarfile.py\u001b[0m in \u001b[0;36m__init__\u001b[1;34m(self, name, mode, fileobj, format, tarinfo, dereference, ignore_zeros, encoding, errors, pax_headers, debug, errorlevel, copybufsize)\u001b[0m\n\u001b[0;32m   1530\u001b[0m                 \u001b[0mself\u001b[0m\u001b[1;33m.\u001b[0m\u001b[0mfirstmember\u001b[0m \u001b[1;33m=\u001b[0m \u001b[1;32mNone\u001b[0m\u001b[1;33m\u001b[0m\u001b[1;33m\u001b[0m\u001b[0m\n\u001b[1;32m-> 1531\u001b[1;33m                 \u001b[0mself\u001b[0m\u001b[1;33m.\u001b[0m\u001b[0mfirstmember\u001b[0m \u001b[1;33m=\u001b[0m \u001b[0mself\u001b[0m\u001b[1;33m.\u001b[0m\u001b[0mnext\u001b[0m\u001b[1;33m(\u001b[0m\u001b[1;33m)\u001b[0m\u001b[1;33m\u001b[0m\u001b[1;33m\u001b[0m\u001b[0m\n\u001b[0m\u001b[0;32m   1532\u001b[0m \u001b[1;33m\u001b[0m\u001b[0m\n",
      "\u001b[1;32m~\\anaconda3\\lib\\tarfile.py\u001b[0m in \u001b[0;36mnext\u001b[1;34m(self)\u001b[0m\n\u001b[0;32m   2347\u001b[0m                 \u001b[1;32melif\u001b[0m \u001b[0mself\u001b[0m\u001b[1;33m.\u001b[0m\u001b[0moffset\u001b[0m \u001b[1;33m==\u001b[0m \u001b[1;36m0\u001b[0m\u001b[1;33m:\u001b[0m\u001b[1;33m\u001b[0m\u001b[1;33m\u001b[0m\u001b[0m\n\u001b[1;32m-> 2348\u001b[1;33m                     \u001b[1;32mraise\u001b[0m \u001b[0mReadError\u001b[0m\u001b[1;33m(\u001b[0m\u001b[0mstr\u001b[0m\u001b[1;33m(\u001b[0m\u001b[0me\u001b[0m\u001b[1;33m)\u001b[0m\u001b[1;33m)\u001b[0m\u001b[1;33m\u001b[0m\u001b[1;33m\u001b[0m\u001b[0m\n\u001b[0m\u001b[0;32m   2349\u001b[0m             \u001b[1;32mexcept\u001b[0m \u001b[0mEmptyHeaderError\u001b[0m\u001b[1;33m:\u001b[0m\u001b[1;33m\u001b[0m\u001b[1;33m\u001b[0m\u001b[0m\n",
      "\u001b[1;31mReadError\u001b[0m: invalid header",
      "\nDuring handling of the above exception, another exception occurred:\n",
      "\u001b[1;31mOSError\u001b[0m                                   Traceback (most recent call last)",
      "\u001b[1;32m~\\AppData\\Local\\Temp\\ipykernel_19772\\3544065246.py\u001b[0m in \u001b[0;36m<module>\u001b[1;34m\u001b[0m\n\u001b[1;32m----> 1\u001b[1;33m \u001b[0mhub\u001b[0m\u001b[1;33m.\u001b[0m\u001b[0mKerasLayer\u001b[0m\u001b[1;33m(\u001b[0m\u001b[1;34m'https://huggingface.co/larslorch/avici'\u001b[0m\u001b[1;33m)\u001b[0m\u001b[1;33m\u001b[0m\u001b[1;33m\u001b[0m\u001b[0m\n\u001b[0m",
      "\u001b[1;32m~\\anaconda3\\lib\\site-packages\\tensorflow_hub\\keras_layer.py\u001b[0m in \u001b[0;36m__init__\u001b[1;34m(self, handle, trainable, arguments, _sentinel, tags, signature, signature_outputs_as_dict, output_key, output_shape, load_options, **kwargs)\u001b[0m\n\u001b[0;32m    155\u001b[0m \u001b[1;33m\u001b[0m\u001b[0m\n\u001b[0;32m    156\u001b[0m     \u001b[0mself\u001b[0m\u001b[1;33m.\u001b[0m\u001b[0m_load_options\u001b[0m \u001b[1;33m=\u001b[0m \u001b[0mload_options\u001b[0m\u001b[1;33m\u001b[0m\u001b[1;33m\u001b[0m\u001b[0m\n\u001b[1;32m--> 157\u001b[1;33m     \u001b[0mself\u001b[0m\u001b[1;33m.\u001b[0m\u001b[0m_func\u001b[0m \u001b[1;33m=\u001b[0m \u001b[0mload_module\u001b[0m\u001b[1;33m(\u001b[0m\u001b[0mhandle\u001b[0m\u001b[1;33m,\u001b[0m \u001b[0mtags\u001b[0m\u001b[1;33m,\u001b[0m \u001b[0mself\u001b[0m\u001b[1;33m.\u001b[0m\u001b[0m_load_options\u001b[0m\u001b[1;33m)\u001b[0m\u001b[1;33m\u001b[0m\u001b[1;33m\u001b[0m\u001b[0m\n\u001b[0m\u001b[0;32m    158\u001b[0m     \u001b[0mself\u001b[0m\u001b[1;33m.\u001b[0m\u001b[0m_is_hub_module_v1\u001b[0m \u001b[1;33m=\u001b[0m \u001b[0mgetattr\u001b[0m\u001b[1;33m(\u001b[0m\u001b[0mself\u001b[0m\u001b[1;33m.\u001b[0m\u001b[0m_func\u001b[0m\u001b[1;33m,\u001b[0m \u001b[1;34m\"_is_hub_module_v1\"\u001b[0m\u001b[1;33m,\u001b[0m \u001b[1;32mFalse\u001b[0m\u001b[1;33m)\u001b[0m\u001b[1;33m\u001b[0m\u001b[1;33m\u001b[0m\u001b[0m\n\u001b[0;32m    159\u001b[0m \u001b[1;33m\u001b[0m\u001b[0m\n",
      "\u001b[1;32m~\\anaconda3\\lib\\site-packages\\tensorflow_hub\\keras_layer.py\u001b[0m in \u001b[0;36mload_module\u001b[1;34m(handle, tags, load_options)\u001b[0m\n\u001b[0;32m    457\u001b[0m         \u001b[1;32mexcept\u001b[0m \u001b[0mImportError\u001b[0m\u001b[1;33m:\u001b[0m  \u001b[1;31m# Expected before TF2.4.\u001b[0m\u001b[1;33m\u001b[0m\u001b[1;33m\u001b[0m\u001b[0m\n\u001b[0;32m    458\u001b[0m           \u001b[0mset_load_options\u001b[0m \u001b[1;33m=\u001b[0m \u001b[0mload_options\u001b[0m\u001b[1;33m\u001b[0m\u001b[1;33m\u001b[0m\u001b[0m\n\u001b[1;32m--> 459\u001b[1;33m     \u001b[1;32mreturn\u001b[0m \u001b[0mmodule_v2\u001b[0m\u001b[1;33m.\u001b[0m\u001b[0mload\u001b[0m\u001b[1;33m(\u001b[0m\u001b[0mhandle\u001b[0m\u001b[1;33m,\u001b[0m \u001b[0mtags\u001b[0m\u001b[1;33m=\u001b[0m\u001b[0mtags\u001b[0m\u001b[1;33m,\u001b[0m \u001b[0moptions\u001b[0m\u001b[1;33m=\u001b[0m\u001b[0mset_load_options\u001b[0m\u001b[1;33m)\u001b[0m\u001b[1;33m\u001b[0m\u001b[1;33m\u001b[0m\u001b[0m\n\u001b[0m\u001b[0;32m    460\u001b[0m \u001b[1;33m\u001b[0m\u001b[0m\n\u001b[0;32m    461\u001b[0m \u001b[1;33m\u001b[0m\u001b[0m\n",
      "\u001b[1;32m~\\anaconda3\\lib\\site-packages\\tensorflow_hub\\module_v2.py\u001b[0m in \u001b[0;36mload\u001b[1;34m(handle, tags, options)\u001b[0m\n\u001b[0;32m     91\u001b[0m   \u001b[1;32mif\u001b[0m \u001b[1;32mnot\u001b[0m \u001b[0misinstance\u001b[0m\u001b[1;33m(\u001b[0m\u001b[0mhandle\u001b[0m\u001b[1;33m,\u001b[0m \u001b[0mstr\u001b[0m\u001b[1;33m)\u001b[0m\u001b[1;33m:\u001b[0m\u001b[1;33m\u001b[0m\u001b[1;33m\u001b[0m\u001b[0m\n\u001b[0;32m     92\u001b[0m     \u001b[1;32mraise\u001b[0m \u001b[0mValueError\u001b[0m\u001b[1;33m(\u001b[0m\u001b[1;34m\"Expected a string, got %s\"\u001b[0m \u001b[1;33m%\u001b[0m \u001b[0mhandle\u001b[0m\u001b[1;33m)\u001b[0m\u001b[1;33m\u001b[0m\u001b[1;33m\u001b[0m\u001b[0m\n\u001b[1;32m---> 93\u001b[1;33m   \u001b[0mmodule_path\u001b[0m \u001b[1;33m=\u001b[0m \u001b[0mresolve\u001b[0m\u001b[1;33m(\u001b[0m\u001b[0mhandle\u001b[0m\u001b[1;33m)\u001b[0m\u001b[1;33m\u001b[0m\u001b[1;33m\u001b[0m\u001b[0m\n\u001b[0m\u001b[0;32m     94\u001b[0m   is_hub_module_v1 = tf.io.gfile.exists(\n\u001b[0;32m     95\u001b[0m       native_module.get_module_proto_path(module_path))\n",
      "\u001b[1;32m~\\anaconda3\\lib\\site-packages\\tensorflow_hub\\module_v2.py\u001b[0m in \u001b[0;36mresolve\u001b[1;34m(handle)\u001b[0m\n\u001b[0;32m     46\u001b[0m     \u001b[0mA\u001b[0m \u001b[0mstring\u001b[0m \u001b[0mrepresenting\u001b[0m \u001b[0mthe\u001b[0m \u001b[0mModule\u001b[0m \u001b[0mpath\u001b[0m\u001b[1;33m.\u001b[0m\u001b[1;33m\u001b[0m\u001b[1;33m\u001b[0m\u001b[0m\n\u001b[0;32m     47\u001b[0m   \"\"\"\n\u001b[1;32m---> 48\u001b[1;33m   \u001b[1;32mreturn\u001b[0m \u001b[0mregistry\u001b[0m\u001b[1;33m.\u001b[0m\u001b[0mresolver\u001b[0m\u001b[1;33m(\u001b[0m\u001b[0mhandle\u001b[0m\u001b[1;33m)\u001b[0m\u001b[1;33m\u001b[0m\u001b[1;33m\u001b[0m\u001b[0m\n\u001b[0m\u001b[0;32m     49\u001b[0m \u001b[1;33m\u001b[0m\u001b[0m\n\u001b[0;32m     50\u001b[0m \u001b[1;33m\u001b[0m\u001b[0m\n",
      "\u001b[1;32m~\\anaconda3\\lib\\site-packages\\tensorflow_hub\\registry.py\u001b[0m in \u001b[0;36m__call__\u001b[1;34m(self, *args, **kwargs)\u001b[0m\n\u001b[0;32m     47\u001b[0m     \u001b[1;32mfor\u001b[0m \u001b[0mimpl\u001b[0m \u001b[1;32min\u001b[0m \u001b[0mreversed\u001b[0m\u001b[1;33m(\u001b[0m\u001b[0mself\u001b[0m\u001b[1;33m.\u001b[0m\u001b[0m_impls\u001b[0m\u001b[1;33m)\u001b[0m\u001b[1;33m:\u001b[0m\u001b[1;33m\u001b[0m\u001b[1;33m\u001b[0m\u001b[0m\n\u001b[0;32m     48\u001b[0m       \u001b[1;32mif\u001b[0m \u001b[0mimpl\u001b[0m\u001b[1;33m.\u001b[0m\u001b[0mis_supported\u001b[0m\u001b[1;33m(\u001b[0m\u001b[1;33m*\u001b[0m\u001b[0margs\u001b[0m\u001b[1;33m,\u001b[0m \u001b[1;33m**\u001b[0m\u001b[0mkwargs\u001b[0m\u001b[1;33m)\u001b[0m\u001b[1;33m:\u001b[0m\u001b[1;33m\u001b[0m\u001b[1;33m\u001b[0m\u001b[0m\n\u001b[1;32m---> 49\u001b[1;33m         \u001b[1;32mreturn\u001b[0m \u001b[0mimpl\u001b[0m\u001b[1;33m(\u001b[0m\u001b[1;33m*\u001b[0m\u001b[0margs\u001b[0m\u001b[1;33m,\u001b[0m \u001b[1;33m**\u001b[0m\u001b[0mkwargs\u001b[0m\u001b[1;33m)\u001b[0m\u001b[1;33m\u001b[0m\u001b[1;33m\u001b[0m\u001b[0m\n\u001b[0m\u001b[0;32m     50\u001b[0m       \u001b[1;32melse\u001b[0m\u001b[1;33m:\u001b[0m\u001b[1;33m\u001b[0m\u001b[1;33m\u001b[0m\u001b[0m\n\u001b[0;32m     51\u001b[0m         \u001b[0mfails\u001b[0m\u001b[1;33m.\u001b[0m\u001b[0mappend\u001b[0m\u001b[1;33m(\u001b[0m\u001b[0mtype\u001b[0m\u001b[1;33m(\u001b[0m\u001b[0mimpl\u001b[0m\u001b[1;33m)\u001b[0m\u001b[1;33m.\u001b[0m\u001b[0m__name__\u001b[0m\u001b[1;33m)\u001b[0m\u001b[1;33m\u001b[0m\u001b[1;33m\u001b[0m\u001b[0m\n",
      "\u001b[1;32m~\\anaconda3\\lib\\site-packages\\tensorflow_hub\\compressed_module_resolver.py\u001b[0m in \u001b[0;36m__call__\u001b[1;34m(self, handle)\u001b[0m\n\u001b[0;32m     65\u001b[0m           response, tmp_dir)\n\u001b[0;32m     66\u001b[0m \u001b[1;33m\u001b[0m\u001b[0m\n\u001b[1;32m---> 67\u001b[1;33m     return resolver.atomic_download(handle, download, module_dir,\n\u001b[0m\u001b[0;32m     68\u001b[0m                                     self._lock_file_timeout_sec())\n\u001b[0;32m     69\u001b[0m \u001b[1;33m\u001b[0m\u001b[0m\n",
      "\u001b[1;32m~\\anaconda3\\lib\\site-packages\\tensorflow_hub\\resolver.py\u001b[0m in \u001b[0;36matomic_download\u001b[1;34m(handle, download_fn, module_dir, lock_file_timeout_sec)\u001b[0m\n\u001b[0;32m    419\u001b[0m     \u001b[0mlogging\u001b[0m\u001b[1;33m.\u001b[0m\u001b[0minfo\u001b[0m\u001b[1;33m(\u001b[0m\u001b[1;34m\"Downloading TF-Hub Module '%s'.\"\u001b[0m\u001b[1;33m,\u001b[0m \u001b[0mhandle\u001b[0m\u001b[1;33m)\u001b[0m\u001b[1;33m\u001b[0m\u001b[1;33m\u001b[0m\u001b[0m\n\u001b[0;32m    420\u001b[0m     \u001b[0mtf\u001b[0m\u001b[1;33m.\u001b[0m\u001b[0mcompat\u001b[0m\u001b[1;33m.\u001b[0m\u001b[0mv1\u001b[0m\u001b[1;33m.\u001b[0m\u001b[0mgfile\u001b[0m\u001b[1;33m.\u001b[0m\u001b[0mMakeDirs\u001b[0m\u001b[1;33m(\u001b[0m\u001b[0mtmp_dir\u001b[0m\u001b[1;33m)\u001b[0m\u001b[1;33m\u001b[0m\u001b[1;33m\u001b[0m\u001b[0m\n\u001b[1;32m--> 421\u001b[1;33m     \u001b[0mdownload_fn\u001b[0m\u001b[1;33m(\u001b[0m\u001b[0mhandle\u001b[0m\u001b[1;33m,\u001b[0m \u001b[0mtmp_dir\u001b[0m\u001b[1;33m)\u001b[0m\u001b[1;33m\u001b[0m\u001b[1;33m\u001b[0m\u001b[0m\n\u001b[0m\u001b[0;32m    422\u001b[0m     \u001b[1;31m# Write module descriptor to capture information about which module was\u001b[0m\u001b[1;33m\u001b[0m\u001b[1;33m\u001b[0m\u001b[0m\n\u001b[0;32m    423\u001b[0m     \u001b[1;31m# downloaded by whom and when. The file stored at the same level as a\u001b[0m\u001b[1;33m\u001b[0m\u001b[1;33m\u001b[0m\u001b[0m\n",
      "\u001b[1;32m~\\anaconda3\\lib\\site-packages\\tensorflow_hub\\compressed_module_resolver.py\u001b[0m in \u001b[0;36mdownload\u001b[1;34m(handle, tmp_dir)\u001b[0m\n\u001b[0;32m     62\u001b[0m           self._append_compressed_format_query(handle))\n\u001b[0;32m     63\u001b[0m       \u001b[0mresponse\u001b[0m \u001b[1;33m=\u001b[0m \u001b[0mself\u001b[0m\u001b[1;33m.\u001b[0m\u001b[0m_call_urlopen\u001b[0m\u001b[1;33m(\u001b[0m\u001b[0mrequest\u001b[0m\u001b[1;33m)\u001b[0m\u001b[1;33m\u001b[0m\u001b[1;33m\u001b[0m\u001b[0m\n\u001b[1;32m---> 64\u001b[1;33m       return resolver.DownloadManager(handle).download_and_uncompress(\n\u001b[0m\u001b[0;32m     65\u001b[0m           response, tmp_dir)\n\u001b[0;32m     66\u001b[0m \u001b[1;33m\u001b[0m\u001b[0m\n",
      "\u001b[1;32m~\\anaconda3\\lib\\site-packages\\tensorflow_hub\\resolver.py\u001b[0m in \u001b[0;36mdownload_and_uncompress\u001b[1;34m(self, fileobj, dst_path)\u001b[0m\n\u001b[0;32m    198\u001b[0m           flush=True)\n\u001b[0;32m    199\u001b[0m     \u001b[1;32mexcept\u001b[0m \u001b[0mtarfile\u001b[0m\u001b[1;33m.\u001b[0m\u001b[0mReadError\u001b[0m\u001b[1;33m:\u001b[0m\u001b[1;33m\u001b[0m\u001b[1;33m\u001b[0m\u001b[0m\n\u001b[1;32m--> 200\u001b[1;33m       \u001b[1;32mraise\u001b[0m \u001b[0mIOError\u001b[0m\u001b[1;33m(\u001b[0m\u001b[1;34m\"%s does not appear to be a valid module.\"\u001b[0m \u001b[1;33m%\u001b[0m \u001b[0mself\u001b[0m\u001b[1;33m.\u001b[0m\u001b[0m_url\u001b[0m\u001b[1;33m)\u001b[0m\u001b[1;33m\u001b[0m\u001b[1;33m\u001b[0m\u001b[0m\n\u001b[0m\u001b[0;32m    201\u001b[0m \u001b[1;33m\u001b[0m\u001b[0m\n\u001b[0;32m    202\u001b[0m \u001b[1;33m\u001b[0m\u001b[0m\n",
      "\u001b[1;31mOSError\u001b[0m: https://huggingface.co/larslorch/avici does not appear to be a valid module."
     ]
    }
   ],
   "source": [
    "hub.KerasLayer('https://huggingface.co/larslorch/avici')"
   ]
  },
  {
   "cell_type": "markdown",
   "metadata": {
    "id": "369WRvgk6rqf"
   },
   "source": [
    "Now, we have a look how the preprocessor works. For this purpose we define an example sentence and then examine the preprocessed sentence.\n"
   ]
  },
  {
   "cell_type": "code",
   "execution_count": 35,
   "metadata": {
    "colab": {
     "base_uri": "https://localhost:8080/"
    },
    "id": "SDT7m-3x66re",
    "outputId": "3ab7af47-ef09-4292-eac8-41f69c09c1d2"
   },
   "outputs": [
    {
     "name": "stdout",
     "output_type": "stream",
     "text": [
      "Shape of input_word_ids: (1, 128)\n",
      "First 12 input_word_ids: [ 101 6283 2296 3371 1997 2009 1012  102    0    0    0    0]\n",
      "First 12 input_word_ids: [ 101 2428 5632 1996 2265  102    0    0    0    0    0    0]\n"
     ]
    }
   ],
   "source": [
    "example_text = ['hated every minute of it.']\n",
    "example_text_2 = ['really enjoyed the show']\n",
    "\n",
    "example_preprocessed = bert_preprocessor(example_text)\n",
    "example_preprocessed_2 = bert_preprocessor(example_text_2)\n",
    "\n",
    "\n",
    "print(f'Shape of input_word_ids: {example_preprocessed[\"input_word_ids\"].shape}')\n",
    "print(f'First 12 input_word_ids: {example_preprocessed[\"input_word_ids\"][0, :12]}')\n",
    "print(f'First 12 input_word_ids: {example_preprocessed_2[\"input_word_ids\"][0, :12]}')\n"
   ]
  },
  {
   "cell_type": "code",
   "execution_count": 36,
   "metadata": {
    "colab": {
     "base_uri": "https://localhost:8080/"
    },
    "id": "M6VNBRiSna8o",
    "outputId": "0ac3fce1-2e76-40c0-9404-6a5742f3a861"
   },
   "outputs": [
    {
     "data": {
      "text/plain": [
       "{'input_word_ids': <tf.Tensor: shape=(1, 128), dtype=int32, numpy=\n",
       " array([[ 101, 6283, 2296, 3371, 1997, 2009, 1012,  102,    0,    0,    0,\n",
       "            0,    0,    0,    0,    0,    0,    0,    0,    0,    0,    0,\n",
       "            0,    0,    0,    0,    0,    0,    0,    0,    0,    0,    0,\n",
       "            0,    0,    0,    0,    0,    0,    0,    0,    0,    0,    0,\n",
       "            0,    0,    0,    0,    0,    0,    0,    0,    0,    0,    0,\n",
       "            0,    0,    0,    0,    0,    0,    0,    0,    0,    0,    0,\n",
       "            0,    0,    0,    0,    0,    0,    0,    0,    0,    0,    0,\n",
       "            0,    0,    0,    0,    0,    0,    0,    0,    0,    0,    0,\n",
       "            0,    0,    0,    0,    0,    0,    0,    0,    0,    0,    0,\n",
       "            0,    0,    0,    0,    0,    0,    0,    0,    0,    0,    0,\n",
       "            0,    0,    0,    0,    0,    0,    0,    0,    0,    0,    0,\n",
       "            0,    0,    0,    0,    0,    0,    0]], dtype=int32)>,\n",
       " 'input_type_ids': <tf.Tensor: shape=(1, 128), dtype=int32, numpy=\n",
       " array([[0, 0, 0, 0, 0, 0, 0, 0, 0, 0, 0, 0, 0, 0, 0, 0, 0, 0, 0, 0, 0, 0,\n",
       "         0, 0, 0, 0, 0, 0, 0, 0, 0, 0, 0, 0, 0, 0, 0, 0, 0, 0, 0, 0, 0, 0,\n",
       "         0, 0, 0, 0, 0, 0, 0, 0, 0, 0, 0, 0, 0, 0, 0, 0, 0, 0, 0, 0, 0, 0,\n",
       "         0, 0, 0, 0, 0, 0, 0, 0, 0, 0, 0, 0, 0, 0, 0, 0, 0, 0, 0, 0, 0, 0,\n",
       "         0, 0, 0, 0, 0, 0, 0, 0, 0, 0, 0, 0, 0, 0, 0, 0, 0, 0, 0, 0, 0, 0,\n",
       "         0, 0, 0, 0, 0, 0, 0, 0, 0, 0, 0, 0, 0, 0, 0, 0, 0, 0]],\n",
       "       dtype=int32)>,\n",
       " 'input_mask': <tf.Tensor: shape=(1, 128), dtype=int32, numpy=\n",
       " array([[1, 1, 1, 1, 1, 1, 1, 1, 0, 0, 0, 0, 0, 0, 0, 0, 0, 0, 0, 0, 0, 0,\n",
       "         0, 0, 0, 0, 0, 0, 0, 0, 0, 0, 0, 0, 0, 0, 0, 0, 0, 0, 0, 0, 0, 0,\n",
       "         0, 0, 0, 0, 0, 0, 0, 0, 0, 0, 0, 0, 0, 0, 0, 0, 0, 0, 0, 0, 0, 0,\n",
       "         0, 0, 0, 0, 0, 0, 0, 0, 0, 0, 0, 0, 0, 0, 0, 0, 0, 0, 0, 0, 0, 0,\n",
       "         0, 0, 0, 0, 0, 0, 0, 0, 0, 0, 0, 0, 0, 0, 0, 0, 0, 0, 0, 0, 0, 0,\n",
       "         0, 0, 0, 0, 0, 0, 0, 0, 0, 0, 0, 0, 0, 0, 0, 0, 0, 0]],\n",
       "       dtype=int32)>}"
      ]
     },
     "execution_count": 36,
     "metadata": {},
     "output_type": "execute_result"
    }
   ],
   "source": [
    "bert_preprocessor(example_text)"
   ]
  },
  {
   "cell_type": "code",
   "execution_count": 37,
   "metadata": {
    "id": "206CpEw9wf-o"
   },
   "outputs": [],
   "source": [
    "#Outputs from the BERT preprocessor: https://www.tensorflow.org/text/tutorials/classify_text_with_bert,https://www.tensorflow.org/hub/common_saved_model_apis/text#transformer-encoders\n",
    "#input_word_ids: the ids from the vocabulary used to train the BERT models, including the start token and the end token.\n",
    "\n",
    "#input_mask: indicating at which position we have actual tokens, and where the padding of the sequence starts. Relevant for computing a masked\n",
    "#attention matrix, as it makes no sense to have the tokens in our sentences attending to padded (non-existent) tokens\n",
    "#(https://github.com/google-research/bert/blob/cc7051dc592802f501e8a6f71f8fb3cf9de95dc9/modeling.py#L524).\n",
    "\n",
    "#input_type_ids: related to the NLP task of sentence classification, which is one of the tasks BERT was pre-trained on. In sentence classification,\n",
    "#BERT predicts whether sentence B follows sentence A. Thus, we have tokens, which belong to two sentences, but the model does not know that,\n",
    "#without any additional information. Thus, we want to make use of the so-called segment embeddings, indicating which token is assigned to which\n",
    "#sentence. For this reason in the trainable variables of BERT we can see that we also have type embeddings."
   ]
  },
  {
   "cell_type": "code",
   "execution_count": 38,
   "metadata": {
    "colab": {
     "base_uri": "https://localhost:8080/"
    },
    "id": "zR5qHaHTpHmI",
    "outputId": "60e2cfbe-82b8-450c-d218-78f7e83ae151"
   },
   "outputs": [
    {
     "data": {
      "text/plain": [
       "[<tf.Variable 'word_embeddings/embeddings:0' shape=(30522, 512) dtype=float32, numpy=\n",
       " array([[ 0.07700924, -0.10239143,  0.01086847, ...,  0.02648759,\n",
       "          0.05274116, -0.009886  ],\n",
       "        [-0.0061628 , -0.0447717 ,  0.00677108, ...,  0.04599561,\n",
       "          0.0176833 , -0.04868097],\n",
       "        [-0.00140176, -0.018351  ,  0.02070379, ...,  0.09362025,\n",
       "          0.05605398, -0.06899607],\n",
       "        ...,\n",
       "        [-0.05386432, -0.02979652,  0.07105876, ...,  0.00571508,\n",
       "          0.01720937, -0.04373623],\n",
       "        [ 0.04459467, -0.05707855,  0.00280032, ..., -0.01379223,\n",
       "          0.05343876, -0.07411715],\n",
       "        [ 0.07978501,  0.03066262, -0.0253515 , ...,  0.03888825,\n",
       "          0.04173004, -0.0208263 ]], dtype=float32)>,\n",
       " <tf.Variable 'position_embedding/embeddings:0' shape=(512, 512) dtype=float32, numpy=\n",
       " array([[-2.23679678e-03, -1.62148345e-02, -5.76564670e-03, ...,\n",
       "         -8.12575892e-02, -1.81370340e-02,  1.05071347e-03],\n",
       "        [-1.44338692e-02, -9.52761807e-03, -3.37332196e-04, ...,\n",
       "          2.26321220e-02, -2.48229243e-02, -2.05417983e-02],\n",
       "        [-1.34868734e-02, -6.80950106e-05,  7.16846203e-03, ...,\n",
       "          4.71532997e-03, -1.99922663e-03,  6.17111754e-03],\n",
       "        ...,\n",
       "        [ 2.49075573e-02, -1.17840164e-03, -9.28540900e-03, ...,\n",
       "          1.19644508e-03, -1.97984464e-02,  4.26357007e-03],\n",
       "        [ 2.82355193e-02, -1.11606233e-02,  1.29859354e-02, ...,\n",
       "         -1.31447185e-02, -2.37946156e-02, -9.27935448e-03],\n",
       "        [-1.15946934e-01,  4.01685722e-02, -1.80738959e-02, ...,\n",
       "         -1.94774829e-02,  1.41551085e-02, -8.68470520e-02]], dtype=float32)>,\n",
       " <tf.Variable 'type_embeddings/embeddings:0' shape=(2, 512) dtype=float32, numpy=\n",
       " array([[ 0.00182431,  0.01570189,  0.00117917, ...,  0.00029603,\n",
       "          0.00079816, -0.00032483],\n",
       "        [ 0.00961065,  0.00782501, -0.00052186, ...,  0.00212142,\n",
       "          0.00081036,  0.00333202]], dtype=float32)>]"
      ]
     },
     "execution_count": 38,
     "metadata": {},
     "output_type": "execute_result"
    }
   ],
   "source": [
    "bert_model.trainable_variables[0:3]"
   ]
  },
  {
   "cell_type": "code",
   "execution_count": 39,
   "metadata": {
    "colab": {
     "base_uri": "https://localhost:8080/"
    },
    "id": "VMf_z16Uehmx",
    "outputId": "1aaca2ca-92d1-4eee-80f2-16db5acbed33"
   },
   "outputs": [
    {
     "data": {
      "text/plain": [
       "{'pooled_output': <tf.Tensor: shape=(1, 512), dtype=float32, numpy=\n",
       " array([[ 9.98704672e-01, -3.36256981e-01,  3.00969034e-01,\n",
       "          5.84296703e-01,  1.89477384e-01,  9.93042827e-01,\n",
       "          9.99494255e-01, -9.78683114e-01, -4.74379718e-01,\n",
       "         -9.99293327e-01, -1.99902549e-01, -9.84620750e-01,\n",
       "         -9.49512124e-01, -9.94791985e-01,  8.44464123e-01,\n",
       "          4.53868844e-02, -5.31214356e-01,  4.89034742e-01,\n",
       "         -5.73997259e-01,  8.41049477e-02, -2.82246266e-02,\n",
       "         -4.19183582e-01, -3.05249870e-01,  9.84845698e-01,\n",
       "          9.97015357e-01,  9.99756396e-01, -2.33094454e-01,\n",
       "         -3.33266497e-01,  7.12646306e-01, -4.39262748e-01,\n",
       "          9.15989876e-01,  3.54820430e-01,  5.39996564e-01,\n",
       "          6.32882565e-02, -8.98132145e-01, -7.72872716e-02,\n",
       "         -5.78870997e-02, -3.53382617e-01,  9.88542855e-01,\n",
       "         -1.43417582e-01, -3.25628072e-01, -1.37820095e-01,\n",
       "          2.48786546e-02, -9.95997429e-01, -2.11830541e-01,\n",
       "         -3.33291203e-01, -9.55417991e-01, -2.44090378e-01,\n",
       "          6.01559043e-01, -2.51393676e-01,  7.97623158e-01,\n",
       "         -8.95832330e-02,  9.96932805e-01, -7.50587404e-01,\n",
       "         -4.27482337e-01,  4.89906490e-01, -1.61915384e-02,\n",
       "         -6.27007961e-01, -9.98870611e-01, -9.89495754e-01,\n",
       "          1.99810654e-01,  2.87001252e-01,  8.65019202e-01,\n",
       "         -4.59230959e-01, -8.00122544e-02, -9.24776018e-01,\n",
       "          9.97650564e-01,  1.71978071e-01,  6.52550310e-02,\n",
       "          9.92509186e-01,  9.97899055e-01,  9.99976039e-01,\n",
       "         -1.66798353e-01, -9.22197044e-01, -9.32453692e-01,\n",
       "          1.33696839e-01,  3.62238437e-01,  9.53759313e-01,\n",
       "         -2.47177519e-02,  2.81323530e-02, -9.98564243e-01,\n",
       "         -3.16804298e-03,  9.95081544e-01, -7.24160731e-01,\n",
       "          8.04898620e-01, -8.70084167e-01,  2.35830069e-01,\n",
       "          1.74319804e-01, -1.11318476e-01, -4.68042381e-02,\n",
       "         -9.36846197e-01,  2.66966760e-01,  1.98959261e-01,\n",
       "         -9.96894956e-01, -8.22963893e-01,  9.83797073e-01,\n",
       "          9.98582125e-01, -2.69288152e-01, -9.99351621e-01,\n",
       "         -2.22916335e-01, -9.98480439e-01, -9.85882044e-01,\n",
       "         -9.99501705e-01, -3.89809459e-01,  2.71259487e-01,\n",
       "         -2.49258250e-01,  9.65683758e-01,  5.30532837e-01,\n",
       "         -6.12407029e-01, -9.75102723e-01, -2.33285740e-01,\n",
       "         -4.72544670e-01,  9.98222411e-01, -9.03180599e-01,\n",
       "         -1.29538774e-01,  6.08040452e-01, -4.19068784e-01,\n",
       "          7.65624166e-01,  1.07842505e-01,  9.78429079e-01,\n",
       "         -9.95942116e-01,  6.74296245e-02, -9.96257663e-01,\n",
       "         -9.97611880e-01, -5.66019833e-01, -2.30784714e-01,\n",
       "          5.61923146e-01, -2.70080447e-01, -3.79459649e-01,\n",
       "         -2.58452266e-01,  9.98755157e-01,  1.13673285e-02,\n",
       "          9.99558747e-01, -1.68390423e-01,  2.32898310e-01,\n",
       "         -9.88897085e-01,  9.99316216e-01, -9.64572310e-01,\n",
       "         -9.99858737e-01,  4.48305458e-01,  9.70221758e-01,\n",
       "          4.60419059e-01, -4.16198879e-01,  7.57359684e-01,\n",
       "          6.28265321e-01,  9.96725380e-01, -9.60904539e-01,\n",
       "          9.99844074e-01, -9.92891431e-01, -2.86635906e-01,\n",
       "         -4.90615845e-01, -3.53548974e-01,  9.81333256e-01,\n",
       "         -2.56837755e-01,  4.53524321e-01, -4.72559988e-01,\n",
       "          9.84903276e-01,  9.58813906e-01,  2.29497194e-01,\n",
       "          3.56450707e-01, -3.69853318e-01,  1.51801795e-01,\n",
       "         -1.39005288e-01, -6.00538611e-01,  9.99977112e-01,\n",
       "          1.34652376e-03, -4.89785999e-01, -4.69412714e-01,\n",
       "          9.91471350e-01,  9.99536574e-01,  5.48863113e-01,\n",
       "         -8.15572679e-01, -9.71752346e-01,  7.16695368e-01,\n",
       "          5.40277421e-01,  5.42832136e-01, -2.13251024e-01,\n",
       "         -1.82070673e-01,  9.99971747e-01,  9.96280134e-01,\n",
       "          9.97946680e-01, -3.42581980e-02,  9.97133315e-01,\n",
       "         -1.99728712e-01,  9.50869083e-01, -9.80639815e-01,\n",
       "         -9.99636233e-01,  4.92376506e-01,  5.88367939e-01,\n",
       "          9.97766554e-01,  9.98117089e-01,  4.56436932e-01,\n",
       "         -1.33576840e-01, -1.35512784e-01,  9.98677373e-01,\n",
       "         -4.48101968e-01, -1.91353187e-01, -8.81770313e-01,\n",
       "          8.79687011e-01,  5.70939779e-01, -2.76367497e-02,\n",
       "         -4.27079707e-01, -9.80085313e-01, -1.61555260e-01,\n",
       "         -4.42775756e-01,  9.98427153e-01, -3.07410777e-01,\n",
       "          9.43372965e-01,  9.97965455e-01, -2.24118084e-01,\n",
       "          6.65727198e-01,  7.46269405e-01,  2.06991345e-01,\n",
       "          4.40697432e-01,  9.33409274e-01, -9.99657393e-01,\n",
       "         -8.71012747e-01,  9.45308626e-01,  1.63210317e-01,\n",
       "         -1.81883112e-01, -9.86403644e-01, -3.96044642e-01,\n",
       "          7.76394606e-01,  4.80997741e-01, -9.95374024e-01,\n",
       "         -4.53575253e-01, -9.84895527e-01, -3.58495384e-01,\n",
       "         -9.94534433e-01,  9.94673848e-01, -2.91162819e-01,\n",
       "          2.76659340e-01,  6.90636858e-02,  1.63607955e-01,\n",
       "          9.91460860e-01, -2.37809077e-01, -1.72158390e-01,\n",
       "         -3.60231102e-01,  4.61720437e-01,  5.48531450e-02,\n",
       "         -8.20176780e-01,  9.99377370e-01,  1.21877842e-01,\n",
       "          9.99890447e-01, -5.60285032e-01,  5.38986802e-01,\n",
       "          9.98877823e-01, -2.43162904e-02,  9.97171402e-01,\n",
       "          1.99076068e-02,  4.74935979e-01, -4.67965364e-01,\n",
       "          1.58164576e-01,  5.13619065e-01,  9.99977708e-01,\n",
       "          4.12633382e-02, -4.44521070e-01, -9.95271742e-01,\n",
       "          4.54531491e-01,  9.25117493e-01, -4.04177010e-01,\n",
       "         -9.89994287e-01, -2.71932185e-01, -1.81743741e-01,\n",
       "          2.71486908e-01,  9.90390956e-01,  9.97198403e-01,\n",
       "          7.50169754e-01,  1.65718436e-01,  1.43277004e-01,\n",
       "          9.98783231e-01,  1.44201487e-01, -9.90940332e-01,\n",
       "          9.99843121e-01, -5.19165993e-01,  6.97999418e-01,\n",
       "         -5.56739450e-01,  4.35470976e-03, -9.92364347e-01,\n",
       "         -1.57943115e-01,  7.78900087e-01, -9.99674678e-01,\n",
       "          9.40177441e-01,  9.99900818e-01, -6.35963142e-01,\n",
       "         -1.48025930e-01,  5.95593989e-01,  6.54150069e-01,\n",
       "         -9.95563269e-01, -9.99938190e-01,  2.97188051e-02,\n",
       "          4.68280494e-01,  5.59619784e-01,  9.02689159e-01,\n",
       "          9.41208720e-01, -9.92965758e-01, -3.51572558e-02,\n",
       "          9.89456296e-01, -1.29476175e-01,  9.99770403e-01,\n",
       "          9.99998212e-01, -9.98945832e-01,  2.00343300e-02,\n",
       "          9.88788128e-01, -3.35866123e-01,  2.18188331e-01,\n",
       "          1.60780340e-01,  9.84917462e-01,  6.45759702e-01,\n",
       "          6.04996644e-02, -6.29803836e-01, -9.96291995e-01,\n",
       "         -1.68326914e-01, -1.51745602e-01,  9.72158313e-01,\n",
       "          4.09992129e-01,  3.66554976e-01,  5.34221113e-01,\n",
       "          6.00772560e-01,  9.99076843e-01, -7.97536001e-02,\n",
       "         -2.53888100e-01, -1.53296590e-01, -9.86861169e-01,\n",
       "         -2.82152325e-01, -6.30202532e-01, -9.66760397e-01,\n",
       "          3.31195354e-01, -7.44552970e-01,  9.88768160e-01,\n",
       "          4.10867155e-01, -2.71669805e-01, -3.97524625e-01,\n",
       "          6.80017352e-01, -3.64822708e-02,  2.17243746e-01,\n",
       "          1.97805941e-01, -9.33824837e-01,  3.91582936e-01,\n",
       "          1.10945046e-01,  9.99881208e-01,  1.80151150e-01,\n",
       "         -4.03403640e-01,  9.82241631e-01, -9.53818321e-01,\n",
       "          9.98504877e-01, -2.90974099e-02,  9.85107064e-01,\n",
       "         -6.29632920e-02,  9.92568970e-01,  4.88200843e-01,\n",
       "          4.58882660e-01, -8.16512525e-01, -1.02498885e-02,\n",
       "         -1.37838097e-02, -2.52050102e-01, -8.99267316e-01,\n",
       "         -5.65802574e-01,  1.48400322e-01, -1.94008484e-01,\n",
       "         -9.95501637e-01,  3.90720934e-01, -4.98934269e-01,\n",
       "         -1.61307171e-01, -2.14126676e-01, -4.38896507e-01,\n",
       "          2.65639544e-01,  8.40378881e-01,  2.42345314e-02,\n",
       "          3.52879047e-01, -1.25060648e-01,  9.07584310e-01,\n",
       "         -2.85813391e-01, -5.12041807e-01,  8.77829075e-01,\n",
       "         -9.99980748e-01,  3.06555092e-01, -3.04222047e-01,\n",
       "         -4.39222828e-02, -3.55229408e-01,  8.91531646e-01,\n",
       "          4.45118517e-01, -9.98317838e-01,  5.43530226e-01,\n",
       "          9.93764162e-01, -8.90552580e-01,  4.82535630e-01,\n",
       "         -2.89049000e-04, -4.06169474e-01, -2.56216228e-01,\n",
       "         -2.44428113e-01,  8.84482145e-01, -9.99945998e-01,\n",
       "          4.32225205e-02,  8.33015963e-02, -2.22030163e-01,\n",
       "         -1.64020628e-01, -6.33651733e-01,  9.94633675e-01,\n",
       "         -8.05232897e-02,  7.03999341e-01, -8.33122730e-01,\n",
       "         -9.94307697e-01, -2.33627275e-01,  9.57773447e-01,\n",
       "          9.97046530e-01,  8.99591923e-01, -4.05020624e-01,\n",
       "          1.69745922e-01, -9.20463204e-01,  9.93282020e-01,\n",
       "          9.46981370e-01, -9.99644101e-01,  6.82491809e-02,\n",
       "         -9.98032033e-01,  3.31867188e-01,  1.72120839e-01,\n",
       "         -8.34541798e-01, -7.92718351e-01, -9.99986708e-01,\n",
       "         -7.28249133e-01,  9.96151805e-01, -2.41242886e-01,\n",
       "          4.01516885e-01,  2.64830410e-01, -9.98188674e-01,\n",
       "         -4.65474695e-01,  2.77080595e-01,  4.76841144e-02,\n",
       "         -3.82859141e-01,  2.47454986e-01,  9.90058720e-01,\n",
       "          9.99932885e-01, -9.99954104e-01, -3.29401881e-01,\n",
       "         -1.24935903e-01, -7.94624388e-01, -3.66161317e-02,\n",
       "          1.83809862e-01,  6.32573590e-02, -2.60122806e-01,\n",
       "         -9.98994768e-01, -9.03647125e-01, -1.23344898e-01,\n",
       "         -9.99932408e-01, -4.92189497e-01,  8.91536236e-01,\n",
       "          5.83949566e-01, -4.82254058e-01,  1.79587260e-01,\n",
       "          1.49067506e-01, -2.03964755e-01,  2.67251879e-01,\n",
       "          9.33115721e-01, -5.14956079e-02,  9.95346189e-01,\n",
       "          3.08543630e-02, -5.25180876e-01,  2.36861035e-01,\n",
       "          9.91230428e-01,  9.95354950e-01,  2.32519522e-01,\n",
       "         -9.99658763e-01,  4.57433164e-01,  7.81448960e-01,\n",
       "          9.98612702e-01,  9.34521854e-01,  9.97876406e-01,\n",
       "         -9.94303286e-01, -2.08666384e-01,  2.42861867e-01,\n",
       "         -3.52075756e-01,  3.08965910e-02, -1.80953190e-01,\n",
       "          5.19397914e-01, -9.98937368e-01, -9.94749308e-01,\n",
       "         -6.02470636e-02, -9.54531848e-01,  3.11692238e-01,\n",
       "          5.70931613e-01,  3.16514075e-01,  7.12266624e-01,\n",
       "          3.14667314e-01, -6.42245114e-02, -9.98347700e-01,\n",
       "         -8.55860710e-01, -2.62933075e-01, -7.06691682e-01,\n",
       "          1.22524627e-01, -4.43518549e-01, -9.99369264e-01,\n",
       "         -9.82348740e-01,  9.60742533e-01,  3.07775378e-01,\n",
       "         -3.45706671e-01,  4.18729037e-01,  4.14880276e-01,\n",
       "         -9.99972939e-01,  9.99992132e-01,  3.33639607e-02,\n",
       "          2.65493810e-01, -3.34452868e-01,  3.33052725e-01,\n",
       "          1.16621718e-01,  2.67353743e-01,  9.99703228e-01,\n",
       "         -9.26006734e-01,  3.36523205e-01,  2.69539624e-01,\n",
       "         -7.59689748e-01, -8.32792878e-01]], dtype=float32)>,\n",
       " 'encoder_outputs': [<tf.Tensor: shape=(1, 128, 512), dtype=float32, numpy=\n",
       "  array([[[-0.1777375 , -0.16681218, -0.20527114, ..., -0.6806398 ,\n",
       "           -0.1775819 , -0.29596937],\n",
       "          [-0.9296967 ,  0.12714389,  1.4260399 , ..., -0.41612688,\n",
       "           -0.77047676, -0.12263674],\n",
       "          [-0.5591502 ,  0.6182806 , -0.17354445, ..., -0.15767248,\n",
       "           -0.8107338 , -0.19600552],\n",
       "          ...,\n",
       "          [ 0.08288797, -0.58727556, -0.45039263, ...,  0.11784905,\n",
       "           -0.38810006,  0.28793234],\n",
       "          [ 0.09136019, -0.18282008, -0.12167869, ..., -0.01409064,\n",
       "            0.24486591, -0.15175256],\n",
       "          [-0.04051084, -0.38921326,  0.1427419 , ...,  0.18257661,\n",
       "            0.37727636, -0.20022164]]], dtype=float32)>,\n",
       "  <tf.Tensor: shape=(1, 128, 512), dtype=float32, numpy=\n",
       "  array([[[-0.02964556,  0.46637708, -0.65833384, ..., -0.30312622,\n",
       "           -0.11024688, -0.512407  ],\n",
       "          [-0.5375548 ,  0.52485675,  1.3541485 , ..., -0.00487851,\n",
       "           -1.4359673 , -0.44273418],\n",
       "          [-1.4311397 ,  1.1061642 , -0.16647571, ..., -0.15715748,\n",
       "           -1.0535914 , -0.1753208 ],\n",
       "          ...,\n",
       "          [-0.33121157,  0.06046728, -0.6160452 , ...,  0.22546898,\n",
       "           -0.5880379 , -0.1741519 ],\n",
       "          [-0.15586142,  0.6845308 , -0.41962263, ..., -0.01011506,\n",
       "           -0.1200425 , -0.40402934],\n",
       "          [-0.34120995,  0.5447611 , -0.01703581, ...,  0.17460236,\n",
       "           -0.15289193, -0.36322197]]], dtype=float32)>,\n",
       "  <tf.Tensor: shape=(1, 128, 512), dtype=float32, numpy=\n",
       "  array([[[ 0.179139  ,  0.7503056 , -0.29380518, ..., -0.25357103,\n",
       "            0.3280028 , -0.66124123],\n",
       "          [-0.8108492 ,  0.6827937 ,  1.0623095 , ..., -0.35728034,\n",
       "           -1.6101685 , -1.0783408 ],\n",
       "          [-1.368784  ,  1.3005028 , -0.02340279, ..., -0.4026237 ,\n",
       "           -0.59352267, -1.3986063 ],\n",
       "          ...,\n",
       "          [-0.60575044,  0.23580155, -0.64352083, ...,  0.06697499,\n",
       "           -0.3520473 , -0.8126635 ],\n",
       "          [-0.7872951 ,  1.4586502 , -0.48478225, ..., -0.30576664,\n",
       "           -0.27558714, -1.1209918 ],\n",
       "          [-1.3388505 ,  0.88139445, -0.6795321 , ...,  0.2937128 ,\n",
       "           -0.42294818, -0.62535334]]], dtype=float32)>,\n",
       "  <tf.Tensor: shape=(1, 128, 512), dtype=float32, numpy=\n",
       "  array([[[-0.46033695,  0.43384805,  0.11868533, ..., -0.95351446,\n",
       "            0.7379201 , -0.64359164],\n",
       "          [-0.5871422 ,  0.3161686 ,  0.96081996, ..., -0.575265  ,\n",
       "           -0.8116777 , -0.1828536 ],\n",
       "          [-1.0736399 ,  0.6570252 ,  0.14633352, ..., -0.72216254,\n",
       "           -0.45819935, -0.66015863],\n",
       "          ...,\n",
       "          [-0.5291149 , -0.09218763, -0.24629712, ..., -0.237892  ,\n",
       "            0.07114336, -0.3213048 ],\n",
       "          [-0.21798965,  0.80885154,  0.2200862 , ..., -0.453345  ,\n",
       "           -0.25190932, -0.8533508 ],\n",
       "          [-0.8011836 ,  0.31537956, -0.09782974, ..., -0.17579794,\n",
       "           -0.19255596, -0.23707888]]], dtype=float32)>],\n",
       " 'sequence_output': <tf.Tensor: shape=(1, 128, 512), dtype=float32, numpy=\n",
       " array([[[-0.46033695,  0.43384805,  0.11868533, ..., -0.95351446,\n",
       "           0.7379201 , -0.64359164],\n",
       "         [-0.5871422 ,  0.3161686 ,  0.96081996, ..., -0.575265  ,\n",
       "          -0.8116777 , -0.1828536 ],\n",
       "         [-1.0736399 ,  0.6570252 ,  0.14633352, ..., -0.72216254,\n",
       "          -0.45819935, -0.66015863],\n",
       "         ...,\n",
       "         [-0.5291149 , -0.09218763, -0.24629712, ..., -0.237892  ,\n",
       "           0.07114336, -0.3213048 ],\n",
       "         [-0.21798965,  0.80885154,  0.2200862 , ..., -0.453345  ,\n",
       "          -0.25190932, -0.8533508 ],\n",
       "         [-0.8011836 ,  0.31537956, -0.09782974, ..., -0.17579794,\n",
       "          -0.19255596, -0.23707888]]], dtype=float32)>,\n",
       " 'default': <tf.Tensor: shape=(1, 512), dtype=float32, numpy=\n",
       " array([[ 9.98704672e-01, -3.36256981e-01,  3.00969034e-01,\n",
       "          5.84296703e-01,  1.89477384e-01,  9.93042827e-01,\n",
       "          9.99494255e-01, -9.78683114e-01, -4.74379718e-01,\n",
       "         -9.99293327e-01, -1.99902549e-01, -9.84620750e-01,\n",
       "         -9.49512124e-01, -9.94791985e-01,  8.44464123e-01,\n",
       "          4.53868844e-02, -5.31214356e-01,  4.89034742e-01,\n",
       "         -5.73997259e-01,  8.41049477e-02, -2.82246266e-02,\n",
       "         -4.19183582e-01, -3.05249870e-01,  9.84845698e-01,\n",
       "          9.97015357e-01,  9.99756396e-01, -2.33094454e-01,\n",
       "         -3.33266497e-01,  7.12646306e-01, -4.39262748e-01,\n",
       "          9.15989876e-01,  3.54820430e-01,  5.39996564e-01,\n",
       "          6.32882565e-02, -8.98132145e-01, -7.72872716e-02,\n",
       "         -5.78870997e-02, -3.53382617e-01,  9.88542855e-01,\n",
       "         -1.43417582e-01, -3.25628072e-01, -1.37820095e-01,\n",
       "          2.48786546e-02, -9.95997429e-01, -2.11830541e-01,\n",
       "         -3.33291203e-01, -9.55417991e-01, -2.44090378e-01,\n",
       "          6.01559043e-01, -2.51393676e-01,  7.97623158e-01,\n",
       "         -8.95832330e-02,  9.96932805e-01, -7.50587404e-01,\n",
       "         -4.27482337e-01,  4.89906490e-01, -1.61915384e-02,\n",
       "         -6.27007961e-01, -9.98870611e-01, -9.89495754e-01,\n",
       "          1.99810654e-01,  2.87001252e-01,  8.65019202e-01,\n",
       "         -4.59230959e-01, -8.00122544e-02, -9.24776018e-01,\n",
       "          9.97650564e-01,  1.71978071e-01,  6.52550310e-02,\n",
       "          9.92509186e-01,  9.97899055e-01,  9.99976039e-01,\n",
       "         -1.66798353e-01, -9.22197044e-01, -9.32453692e-01,\n",
       "          1.33696839e-01,  3.62238437e-01,  9.53759313e-01,\n",
       "         -2.47177519e-02,  2.81323530e-02, -9.98564243e-01,\n",
       "         -3.16804298e-03,  9.95081544e-01, -7.24160731e-01,\n",
       "          8.04898620e-01, -8.70084167e-01,  2.35830069e-01,\n",
       "          1.74319804e-01, -1.11318476e-01, -4.68042381e-02,\n",
       "         -9.36846197e-01,  2.66966760e-01,  1.98959261e-01,\n",
       "         -9.96894956e-01, -8.22963893e-01,  9.83797073e-01,\n",
       "          9.98582125e-01, -2.69288152e-01, -9.99351621e-01,\n",
       "         -2.22916335e-01, -9.98480439e-01, -9.85882044e-01,\n",
       "         -9.99501705e-01, -3.89809459e-01,  2.71259487e-01,\n",
       "         -2.49258250e-01,  9.65683758e-01,  5.30532837e-01,\n",
       "         -6.12407029e-01, -9.75102723e-01, -2.33285740e-01,\n",
       "         -4.72544670e-01,  9.98222411e-01, -9.03180599e-01,\n",
       "         -1.29538774e-01,  6.08040452e-01, -4.19068784e-01,\n",
       "          7.65624166e-01,  1.07842505e-01,  9.78429079e-01,\n",
       "         -9.95942116e-01,  6.74296245e-02, -9.96257663e-01,\n",
       "         -9.97611880e-01, -5.66019833e-01, -2.30784714e-01,\n",
       "          5.61923146e-01, -2.70080447e-01, -3.79459649e-01,\n",
       "         -2.58452266e-01,  9.98755157e-01,  1.13673285e-02,\n",
       "          9.99558747e-01, -1.68390423e-01,  2.32898310e-01,\n",
       "         -9.88897085e-01,  9.99316216e-01, -9.64572310e-01,\n",
       "         -9.99858737e-01,  4.48305458e-01,  9.70221758e-01,\n",
       "          4.60419059e-01, -4.16198879e-01,  7.57359684e-01,\n",
       "          6.28265321e-01,  9.96725380e-01, -9.60904539e-01,\n",
       "          9.99844074e-01, -9.92891431e-01, -2.86635906e-01,\n",
       "         -4.90615845e-01, -3.53548974e-01,  9.81333256e-01,\n",
       "         -2.56837755e-01,  4.53524321e-01, -4.72559988e-01,\n",
       "          9.84903276e-01,  9.58813906e-01,  2.29497194e-01,\n",
       "          3.56450707e-01, -3.69853318e-01,  1.51801795e-01,\n",
       "         -1.39005288e-01, -6.00538611e-01,  9.99977112e-01,\n",
       "          1.34652376e-03, -4.89785999e-01, -4.69412714e-01,\n",
       "          9.91471350e-01,  9.99536574e-01,  5.48863113e-01,\n",
       "         -8.15572679e-01, -9.71752346e-01,  7.16695368e-01,\n",
       "          5.40277421e-01,  5.42832136e-01, -2.13251024e-01,\n",
       "         -1.82070673e-01,  9.99971747e-01,  9.96280134e-01,\n",
       "          9.97946680e-01, -3.42581980e-02,  9.97133315e-01,\n",
       "         -1.99728712e-01,  9.50869083e-01, -9.80639815e-01,\n",
       "         -9.99636233e-01,  4.92376506e-01,  5.88367939e-01,\n",
       "          9.97766554e-01,  9.98117089e-01,  4.56436932e-01,\n",
       "         -1.33576840e-01, -1.35512784e-01,  9.98677373e-01,\n",
       "         -4.48101968e-01, -1.91353187e-01, -8.81770313e-01,\n",
       "          8.79687011e-01,  5.70939779e-01, -2.76367497e-02,\n",
       "         -4.27079707e-01, -9.80085313e-01, -1.61555260e-01,\n",
       "         -4.42775756e-01,  9.98427153e-01, -3.07410777e-01,\n",
       "          9.43372965e-01,  9.97965455e-01, -2.24118084e-01,\n",
       "          6.65727198e-01,  7.46269405e-01,  2.06991345e-01,\n",
       "          4.40697432e-01,  9.33409274e-01, -9.99657393e-01,\n",
       "         -8.71012747e-01,  9.45308626e-01,  1.63210317e-01,\n",
       "         -1.81883112e-01, -9.86403644e-01, -3.96044642e-01,\n",
       "          7.76394606e-01,  4.80997741e-01, -9.95374024e-01,\n",
       "         -4.53575253e-01, -9.84895527e-01, -3.58495384e-01,\n",
       "         -9.94534433e-01,  9.94673848e-01, -2.91162819e-01,\n",
       "          2.76659340e-01,  6.90636858e-02,  1.63607955e-01,\n",
       "          9.91460860e-01, -2.37809077e-01, -1.72158390e-01,\n",
       "         -3.60231102e-01,  4.61720437e-01,  5.48531450e-02,\n",
       "         -8.20176780e-01,  9.99377370e-01,  1.21877842e-01,\n",
       "          9.99890447e-01, -5.60285032e-01,  5.38986802e-01,\n",
       "          9.98877823e-01, -2.43162904e-02,  9.97171402e-01,\n",
       "          1.99076068e-02,  4.74935979e-01, -4.67965364e-01,\n",
       "          1.58164576e-01,  5.13619065e-01,  9.99977708e-01,\n",
       "          4.12633382e-02, -4.44521070e-01, -9.95271742e-01,\n",
       "          4.54531491e-01,  9.25117493e-01, -4.04177010e-01,\n",
       "         -9.89994287e-01, -2.71932185e-01, -1.81743741e-01,\n",
       "          2.71486908e-01,  9.90390956e-01,  9.97198403e-01,\n",
       "          7.50169754e-01,  1.65718436e-01,  1.43277004e-01,\n",
       "          9.98783231e-01,  1.44201487e-01, -9.90940332e-01,\n",
       "          9.99843121e-01, -5.19165993e-01,  6.97999418e-01,\n",
       "         -5.56739450e-01,  4.35470976e-03, -9.92364347e-01,\n",
       "         -1.57943115e-01,  7.78900087e-01, -9.99674678e-01,\n",
       "          9.40177441e-01,  9.99900818e-01, -6.35963142e-01,\n",
       "         -1.48025930e-01,  5.95593989e-01,  6.54150069e-01,\n",
       "         -9.95563269e-01, -9.99938190e-01,  2.97188051e-02,\n",
       "          4.68280494e-01,  5.59619784e-01,  9.02689159e-01,\n",
       "          9.41208720e-01, -9.92965758e-01, -3.51572558e-02,\n",
       "          9.89456296e-01, -1.29476175e-01,  9.99770403e-01,\n",
       "          9.99998212e-01, -9.98945832e-01,  2.00343300e-02,\n",
       "          9.88788128e-01, -3.35866123e-01,  2.18188331e-01,\n",
       "          1.60780340e-01,  9.84917462e-01,  6.45759702e-01,\n",
       "          6.04996644e-02, -6.29803836e-01, -9.96291995e-01,\n",
       "         -1.68326914e-01, -1.51745602e-01,  9.72158313e-01,\n",
       "          4.09992129e-01,  3.66554976e-01,  5.34221113e-01,\n",
       "          6.00772560e-01,  9.99076843e-01, -7.97536001e-02,\n",
       "         -2.53888100e-01, -1.53296590e-01, -9.86861169e-01,\n",
       "         -2.82152325e-01, -6.30202532e-01, -9.66760397e-01,\n",
       "          3.31195354e-01, -7.44552970e-01,  9.88768160e-01,\n",
       "          4.10867155e-01, -2.71669805e-01, -3.97524625e-01,\n",
       "          6.80017352e-01, -3.64822708e-02,  2.17243746e-01,\n",
       "          1.97805941e-01, -9.33824837e-01,  3.91582936e-01,\n",
       "          1.10945046e-01,  9.99881208e-01,  1.80151150e-01,\n",
       "         -4.03403640e-01,  9.82241631e-01, -9.53818321e-01,\n",
       "          9.98504877e-01, -2.90974099e-02,  9.85107064e-01,\n",
       "         -6.29632920e-02,  9.92568970e-01,  4.88200843e-01,\n",
       "          4.58882660e-01, -8.16512525e-01, -1.02498885e-02,\n",
       "         -1.37838097e-02, -2.52050102e-01, -8.99267316e-01,\n",
       "         -5.65802574e-01,  1.48400322e-01, -1.94008484e-01,\n",
       "         -9.95501637e-01,  3.90720934e-01, -4.98934269e-01,\n",
       "         -1.61307171e-01, -2.14126676e-01, -4.38896507e-01,\n",
       "          2.65639544e-01,  8.40378881e-01,  2.42345314e-02,\n",
       "          3.52879047e-01, -1.25060648e-01,  9.07584310e-01,\n",
       "         -2.85813391e-01, -5.12041807e-01,  8.77829075e-01,\n",
       "         -9.99980748e-01,  3.06555092e-01, -3.04222047e-01,\n",
       "         -4.39222828e-02, -3.55229408e-01,  8.91531646e-01,\n",
       "          4.45118517e-01, -9.98317838e-01,  5.43530226e-01,\n",
       "          9.93764162e-01, -8.90552580e-01,  4.82535630e-01,\n",
       "         -2.89049000e-04, -4.06169474e-01, -2.56216228e-01,\n",
       "         -2.44428113e-01,  8.84482145e-01, -9.99945998e-01,\n",
       "          4.32225205e-02,  8.33015963e-02, -2.22030163e-01,\n",
       "         -1.64020628e-01, -6.33651733e-01,  9.94633675e-01,\n",
       "         -8.05232897e-02,  7.03999341e-01, -8.33122730e-01,\n",
       "         -9.94307697e-01, -2.33627275e-01,  9.57773447e-01,\n",
       "          9.97046530e-01,  8.99591923e-01, -4.05020624e-01,\n",
       "          1.69745922e-01, -9.20463204e-01,  9.93282020e-01,\n",
       "          9.46981370e-01, -9.99644101e-01,  6.82491809e-02,\n",
       "         -9.98032033e-01,  3.31867188e-01,  1.72120839e-01,\n",
       "         -8.34541798e-01, -7.92718351e-01, -9.99986708e-01,\n",
       "         -7.28249133e-01,  9.96151805e-01, -2.41242886e-01,\n",
       "          4.01516885e-01,  2.64830410e-01, -9.98188674e-01,\n",
       "         -4.65474695e-01,  2.77080595e-01,  4.76841144e-02,\n",
       "         -3.82859141e-01,  2.47454986e-01,  9.90058720e-01,\n",
       "          9.99932885e-01, -9.99954104e-01, -3.29401881e-01,\n",
       "         -1.24935903e-01, -7.94624388e-01, -3.66161317e-02,\n",
       "          1.83809862e-01,  6.32573590e-02, -2.60122806e-01,\n",
       "         -9.98994768e-01, -9.03647125e-01, -1.23344898e-01,\n",
       "         -9.99932408e-01, -4.92189497e-01,  8.91536236e-01,\n",
       "          5.83949566e-01, -4.82254058e-01,  1.79587260e-01,\n",
       "          1.49067506e-01, -2.03964755e-01,  2.67251879e-01,\n",
       "          9.33115721e-01, -5.14956079e-02,  9.95346189e-01,\n",
       "          3.08543630e-02, -5.25180876e-01,  2.36861035e-01,\n",
       "          9.91230428e-01,  9.95354950e-01,  2.32519522e-01,\n",
       "         -9.99658763e-01,  4.57433164e-01,  7.81448960e-01,\n",
       "          9.98612702e-01,  9.34521854e-01,  9.97876406e-01,\n",
       "         -9.94303286e-01, -2.08666384e-01,  2.42861867e-01,\n",
       "         -3.52075756e-01,  3.08965910e-02, -1.80953190e-01,\n",
       "          5.19397914e-01, -9.98937368e-01, -9.94749308e-01,\n",
       "         -6.02470636e-02, -9.54531848e-01,  3.11692238e-01,\n",
       "          5.70931613e-01,  3.16514075e-01,  7.12266624e-01,\n",
       "          3.14667314e-01, -6.42245114e-02, -9.98347700e-01,\n",
       "         -8.55860710e-01, -2.62933075e-01, -7.06691682e-01,\n",
       "          1.22524627e-01, -4.43518549e-01, -9.99369264e-01,\n",
       "         -9.82348740e-01,  9.60742533e-01,  3.07775378e-01,\n",
       "         -3.45706671e-01,  4.18729037e-01,  4.14880276e-01,\n",
       "         -9.99972939e-01,  9.99992132e-01,  3.33639607e-02,\n",
       "          2.65493810e-01, -3.34452868e-01,  3.33052725e-01,\n",
       "          1.16621718e-01,  2.67353743e-01,  9.99703228e-01,\n",
       "         -9.26006734e-01,  3.36523205e-01,  2.69539624e-01,\n",
       "         -7.59689748e-01, -8.32792878e-01]], dtype=float32)>}"
      ]
     },
     "execution_count": 39,
     "metadata": {},
     "output_type": "execute_result"
    }
   ],
   "source": [
    "bert_model(example_preprocessed)"
   ]
  },
  {
   "cell_type": "code",
   "execution_count": 40,
   "metadata": {
    "id": "f3PfNr2Sh3DU"
   },
   "outputs": [],
   "source": [
    "#Outputs from the BERT model: https://www.tensorflow.org/text/tutorials/classify_text_with_bert, https://github.com/google-research/bert/blob/master/modeling.py\n",
    "#A map with 3 keys: pooled_output, sequence_output, encoder_outputs\n",
    "#pooled_output: represents an embedding of the input sequence on the whole, the embedding corresponding to the 'CLS' token,\n",
    "#this is the first token in a sequence, is taken and passed through a Dense layer to produce the pooled_output.\n",
    "#We take this embedded token because the encoder of BERT are bidirectional. Thus, the embedded information in the first token\n",
    "#contains the information from all other tokens in the entire sequence.\n",
    "\n",
    "#sequence_output: represents a contextual embedding of each token.\n",
    "\n",
    "#encoder_outputs: in this case we have 4 stacked encoder blocks, thus we have 4 outputs of each encoder block. The\n",
    "#output from the last encoder block is equal to the sequence_output, meaning the final contextual representation of\n",
    "# our sentence.\n",
    "\n"
   ]
  },
  {
   "cell_type": "markdown",
   "metadata": {
    "id": "YUijb4La78pu"
   },
   "source": [
    "First, we note that input sequences for our BERT model need a sequence length of 128. This can be achieved by truncation and padding. We can see that all the words in the example sentences are converted to ID's in the vocabulary. The vocabulary (in english) of the preprocessor is extracted from the Wikipedia and BooksCorpus. As we can see from the IDs, BERT has already encountered most words that will be important for classification through its pre-training.\n",
    "\n",
    "Was the number of non-zero tokens what you expected? You may have only anticipated the following tokens: 'hated', 'every', 'minute', 'of', 'it', '.'. Why do we have an extra 2 tokens? BERT automatically adds tokens to indicate the beginning and end of a sentence as well. The rest of the sequence will be 0s as padding to keep the input length the same which is necessary for mathematical convenience."
   ]
  },
  {
   "cell_type": "markdown",
   "metadata": {
    "id": "Vlq84BaGzVu_"
   },
   "source": [
    "### Build the classifier\n",
    "Now we will stack some layers to create a classifier model. We will use:\n",
    "- an input layer which receives the raw text\n",
    "- a layer to preprocess the text for the BERT encoder\n",
    "- an encoding layer which returns BERT outputs\n",
    "- a dropout layer to prevent overfitting\n",
    "- a final dense layer for the final classification"
   ]
  },
  {
   "cell_type": "code",
   "execution_count": 41,
   "metadata": {
    "id": "daXr7yxOdL2T"
   },
   "outputs": [],
   "source": [
    "def build_classifier_model():\n",
    "  # create input layer\n",
    "  input_layer = tf.keras.layers.Input(shape=(), dtype=tf.string, name='input text')\n",
    "  # add preprocessing layer and input text\n",
    "  preprocessor = hub.KerasLayer('https://tfhub.dev/tensorflow/bert_en_uncased_preprocess/3', name='preprocessing')\n",
    "  encoder_inputs = preprocessor(input_layer)\n",
    "  # add encoding layer and feed preprocessed text into layer\n",
    "  encoder = hub.KerasLayer('https://tfhub.dev/tensorflow/small_bert/bert_en_uncased_L-4_H-512_A-8/1', trainable=True, name='BERT_encoder')\n",
    "  outputs = encoder(encoder_inputs)\n",
    "  # take the pooled output and apply a dropout layer to it to prevent overfitting\n",
    "  pooled = outputs['pooled_output']\n",
    "    \n",
    "    \n",
    "  pooled = tf.keras.layers.Dropout(0.1)(pooled)\n",
    "  # create output layer which is the final classifier\n",
    "  pooled = tf.keras.layers.Dense(1, activation=None, name='classifier')(pooled)\n",
    "  return tf.keras.Model(input_layer, pooled)"
   ]
  },
  {
   "cell_type": "code",
   "execution_count": 42,
   "metadata": {
    "colab": {
     "base_uri": "https://localhost:8080/"
    },
    "id": "rc5aEjXmA3l0",
    "outputId": "bdeeee18-cf70-40c0-c013-6293f58fa08a"
   },
   "outputs": [
    {
     "name": "stdout",
     "output_type": "stream",
     "text": [
      "Model: \"model\"\n",
      "__________________________________________________________________________________________________\n",
      " Layer (type)                   Output Shape         Param #     Connected to                     \n",
      "==================================================================================================\n",
      " input text (InputLayer)        [(None,)]            0           []                               \n",
      "                                                                                                  \n",
      " preprocessing (KerasLayer)     {'input_word_ids':   0           ['input text[0][0]']             \n",
      "                                (None, 128),                                                      \n",
      "                                 'input_mask': (Non                                               \n",
      "                                e, 128),                                                          \n",
      "                                 'input_type_ids':                                                \n",
      "                                (None, 128)}                                                      \n",
      "                                                                                                  \n",
      " BERT_encoder (KerasLayer)      {'encoder_outputs':  28763649    ['preprocessing[0][0]',          \n",
      "                                 [(None, 128, 512),               'preprocessing[0][1]',          \n",
      "                                 (None, 128, 512),                'preprocessing[0][2]']          \n",
      "                                 (None, 128, 512),                                                \n",
      "                                 (None, 128, 512)],                                               \n",
      "                                 'default': (None,                                                \n",
      "                                512),                                                             \n",
      "                                 'pooled_output': (                                               \n",
      "                                None, 512),                                                       \n",
      "                                 'sequence_output':                                               \n",
      "                                 (None, 128, 512)}                                                \n",
      "                                                                                                  \n",
      " dropout (Dropout)              (None, 512)          0           ['BERT_encoder[0][5]']           \n",
      "                                                                                                  \n",
      " classifier (Dense)             (None, 1)            513         ['dropout[0][0]']                \n",
      "                                                                                                  \n",
      "==================================================================================================\n",
      "Total params: 28,764,162\n",
      "Trainable params: 28,764,161\n",
      "Non-trainable params: 1\n",
      "__________________________________________________________________________________________________\n"
     ]
    }
   ],
   "source": [
    "## instantiate model\n",
    "classifier_model = build_classifier_model()\n",
    "\n",
    "## check architecture\n",
    "classifier_model.summary()"
   ]
  },
  {
   "cell_type": "markdown",
   "metadata": {
    "id": "0XyNQrxG9Pvb"
   },
   "source": [
    "### Setting up loss metric and meta parameters\n",
    "\n",
    "BERT usually gets trained for less epochs than traditional deep learning models. Depending on your task and system abilities, you can of course experiment with adding more epochs to see how it affects the model's performance. Here we set the number of epochs especially low, to get quick results during the tutorial.\n",
    "\n",
    "`steps_per_epoch` is the total number of steps (batches of observations) to yield from generator before declaring one epoch finished and starting the next epoch. We will set this equal to the cardinality (the unique items per column) as recommended by tensorflow.\n",
    "\n",
    "We will keep our learning rate at the highest level for the first 10% of training steps then it will follow a linear decay. According to the paper on BERT, you can also try learning rates of 5e-5 and 2e-5 if you'd like to experiment, but these seem to be best for fine-tuning BERT.\n",
    "\n",
    "Lastly, for an optimizer, AdamW will be used, which is Adaptive Movements with weight decay (instead of regular Adam which is based on moments)."
   ]
  },
  {
   "cell_type": "code",
   "execution_count": null,
   "metadata": {
    "id": "lWtLED_I5zwj"
   },
   "outputs": [],
   "source": [
    "## loss\n",
    "loss = tf.keras.losses.BinaryCrossentropy(from_logits=True)\n",
    "metrics = tf.metrics.BinaryAccuracy()\n",
    "\n",
    "## meta parameters\n",
    "epochs = 1\n",
    "steps_per_epoch = tf.data.experimental.cardinality(X_train).numpy()\n",
    "#Data cardinality refers to the uniqueness of the values contained in a database column. The cardinality of our tensorflow dataset\n",
    "#is simply the number of (unique) mini-batches contained in our cached dataset.\n",
    "num_train_steps = steps_per_epoch * epochs\n",
    "num_warmup_steps = int(0.1*num_train_steps)\n",
    "\n",
    "init_lr = 3e-5 # Best options for BERT: 5e-5, 3e-5, 2e-5\n",
    "optimizer = optimization.create_optimizer(init_lr=init_lr,\n",
    "                                          num_train_steps=num_train_steps,\n",
    "                                          num_warmup_steps=num_warmup_steps,\n",
    "                                          optimizer_type='adamw')"
   ]
  },
  {
   "cell_type": "markdown",
   "metadata": {
    "id": "xpSBUx-Uy6Eg"
   },
   "source": [
    "Now that we have all of these set, we can compile the model with them."
   ]
  },
  {
   "cell_type": "code",
   "execution_count": null,
   "metadata": {
    "id": "alnfraF-52sk"
   },
   "outputs": [],
   "source": [
    "classifier_model.compile(optimizer=optimizer,\n",
    "                         loss=loss,\n",
    "                         metrics=metrics)"
   ]
  },
  {
   "cell_type": "markdown",
   "metadata": {
    "id": "xjysAvFqsFfE"
   },
   "source": [
    "### Fit and evaluate model\n"
   ]
  },
  {
   "cell_type": "code",
   "execution_count": null,
   "metadata": {
    "colab": {
     "base_uri": "https://localhost:8080/"
    },
    "id": "uBOOgBA754hT",
    "outputId": "8f32cf68-ae70-4e93-f820-c8e2de0e887c"
   },
   "outputs": [
    {
     "name": "stdout",
     "output_type": "stream",
     "text": [
      "625/625 [==============================] - 200s 305ms/step - loss: 0.4461 - binary_accuracy: 0.7718 - val_loss: 0.3967 - val_binary_accuracy: 0.8200\n"
     ]
    }
   ],
   "source": [
    "## fit model\n",
    "history = classifier_model.fit(x=X_train,\n",
    "                               validation_data=X_val,\n",
    "                               epochs=epochs)"
   ]
  },
  {
   "cell_type": "code",
   "execution_count": null,
   "metadata": {
    "id": "MgoMi4I29XY6"
   },
   "outputs": [],
   "source": [
    "classifier_model.predict(X_test)"
   ]
  },
  {
   "cell_type": "code",
   "execution_count": null,
   "metadata": {
    "colab": {
     "base_uri": "https://localhost:8080/"
    },
    "id": "BLpHsARDDmOG",
    "outputId": "8a771638-c334-4b9d-9f66-d4935d11c22a"
   },
   "outputs": [
    {
     "name": "stdout",
     "output_type": "stream",
     "text": [
      "782/782 [==============================] - 90s 115ms/step - loss: 0.3710 - binary_accuracy: 0.8323\n",
      "Loss: 0.37099120020866394\n",
      "Accuracy: 0.832319974899292\n"
     ]
    }
   ],
   "source": [
    "## evaluate model\n",
    "loss_res, acc_res = classifier_model.evaluate(X_test)\n",
    "\n",
    "print(f'Loss: {loss_res}')\n",
    "print(f'Accuracy: {acc_res}')"
   ]
  },
  {
   "cell_type": "markdown",
   "metadata": {
    "id": "b8nKiP4_VMw3"
   },
   "source": [
    "## Exercise 4\n",
    "Now you have loaded a pre-trained BERT model and fine-tuned its parameters. Which parameters of the model did you modify during training compared to the pre-trained model? Load the same pre-trained model again and only train the parameters of the dense layer. Which differences do you notice?"
   ]
  },
  {
   "cell_type": "code",
   "execution_count": null,
   "metadata": {
    "id": "e43g4mNpWc49"
   },
   "outputs": [],
   "source": [
    "def build_classifier_model_train_dense_layer():\n",
    "  # create input layer\n",
    "  input_layer = tf.keras.layers.Input(shape=(), dtype=tf.string, name='input text')\n",
    "  # add preprocessing layer and input text\n",
    "  preprocessor = hub.KerasLayer('https://tfhub.dev/tensorflow/bert_en_uncased_preprocess/3', name='preprocessing')\n",
    "  encoder_inputs = preprocessor(input_layer)\n",
    "  # add encoding layer and feed preprocessed text into layer\n",
    "  encoder = hub.KerasLayer('https://tfhub.dev/tensorflow/small_bert/bert_en_uncased_L-4_H-512_A-8/1', trainable=False, name='BERT_encoder')\n",
    "  outputs = encoder(encoder_inputs)\n",
    "  # take the pooled output and apply a dropout layer to it to prevent overfitting\n",
    "  pooled = outputs['pooled_output']\n",
    "  pooled = tf.keras.layers.Dropout(0.1)(pooled)\n",
    "  # create output layer which is the final classifier\n",
    "  pooled = tf.keras.layers.Dense(1, activation=None, name='classifier')(pooled)\n",
    "  return tf.keras.Model(input_layer, pooled)\n",
    "\n",
    "classifier_model_train_dense_layer = build_classifier_model_train_dense_layer()"
   ]
  },
  {
   "cell_type": "code",
   "execution_count": null,
   "metadata": {
    "colab": {
     "base_uri": "https://localhost:8080/"
    },
    "id": "ssZH70N_XBzY",
    "outputId": "994ac84e-caee-4be8-e1a0-5ef4b6f8364c"
   },
   "outputs": [
    {
     "name": "stdout",
     "output_type": "stream",
     "text": [
      "Model: \"model_1\"\n",
      "__________________________________________________________________________________________________\n",
      " Layer (type)                   Output Shape         Param #     Connected to                     \n",
      "==================================================================================================\n",
      " input text (InputLayer)        [(None,)]            0           []                               \n",
      "                                                                                                  \n",
      " preprocessing (KerasLayer)     {'input_word_ids':   0           ['input text[0][0]']             \n",
      "                                (None, 128),                                                      \n",
      "                                 'input_type_ids':                                                \n",
      "                                (None, 128),                                                      \n",
      "                                 'input_mask': (Non                                               \n",
      "                                e, 128)}                                                          \n",
      "                                                                                                  \n",
      " BERT_encoder (KerasLayer)      {'encoder_outputs':  28763649    ['preprocessing[0][0]',          \n",
      "                                 [(None, 128, 512),               'preprocessing[0][1]',          \n",
      "                                 (None, 128, 512),                'preprocessing[0][2]']          \n",
      "                                 (None, 128, 512),                                                \n",
      "                                 (None, 128, 512)],                                               \n",
      "                                 'pooled_output': (                                               \n",
      "                                None, 512),                                                       \n",
      "                                 'sequence_output':                                               \n",
      "                                 (None, 128, 512),                                                \n",
      "                                 'default': (None,                                                \n",
      "                                512)}                                                             \n",
      "                                                                                                  \n",
      " dropout_1 (Dropout)            (None, 512)          0           ['BERT_encoder[0][5]']           \n",
      "                                                                                                  \n",
      " classifier (Dense)             (None, 1)            513         ['dropout_1[0][0]']              \n",
      "                                                                                                  \n",
      "==================================================================================================\n",
      "Total params: 28,764,162\n",
      "Trainable params: 513\n",
      "Non-trainable params: 28,763,649\n",
      "__________________________________________________________________________________________________\n"
     ]
    }
   ],
   "source": [
    "## check architecture\n",
    "classifier_model_train_dense_layer.summary()"
   ]
  },
  {
   "cell_type": "code",
   "execution_count": null,
   "metadata": {
    "colab": {
     "base_uri": "https://localhost:8080/"
    },
    "id": "e0Hwufm9XQHO",
    "outputId": "e500900c-e41e-40fb-8f8b-8b4eaf7daada"
   },
   "outputs": [
    {
     "name": "stdout",
     "output_type": "stream",
     "text": [
      "625/625 [==============================] - 91s 140ms/step - loss: 0.7827 - binary_accuracy: 0.6985 - val_loss: 0.7745 - val_binary_accuracy: 0.5202\n"
     ]
    }
   ],
   "source": [
    "## compile and fit model\n",
    "classifier_model_train_dense_layer.compile(optimizer=optimizer,\n",
    "                         loss=loss,\n",
    "                         metrics=metrics)\n",
    "\n",
    "history_train_dense_layer = classifier_model_train_dense_layer.fit(x=X_train,\n",
    "                               validation_data=X_val,\n",
    "                               epochs=1)"
   ]
  },
  {
   "cell_type": "code",
   "execution_count": null,
   "metadata": {
    "colab": {
     "base_uri": "https://localhost:8080/"
    },
    "id": "XFm_9hPOtaFw",
    "outputId": "6ac4b88e-502a-46eb-8053-534d7b764c34"
   },
   "outputs": [
    {
     "name": "stdout",
     "output_type": "stream",
     "text": [
      "782/782 [==============================] - 88s 113ms/step - loss: 0.7747 - binary_accuracy: 0.5248\n",
      "Loss: 0.7747092247009277\n",
      "Accuracy: 0.5248399972915649\n"
     ]
    }
   ],
   "source": [
    "## evaluate model\n",
    "loss_res, acc_res = classifier_model_train_dense_layer.evaluate(X_test)\n",
    "\n",
    "print(f'Loss: {loss_res}')\n",
    "print(f'Accuracy: {acc_res}')"
   ]
  },
  {
   "cell_type": "markdown",
   "metadata": {
    "id": "WsUR_Qyc28S2"
   },
   "source": [
    "Check for further details on transfer learning and fine-tuning with Keras [here](https://keras.io/guides/transfer_learning/)."
   ]
  }
 ],
 "metadata": {
  "accelerator": "GPU",
  "colab": {
   "provenance": []
  },
  "gpuClass": "standard",
  "kernelspec": {
   "display_name": "Python 3 (ipykernel)",
   "language": "python",
   "name": "python3"
  },
  "language_info": {
   "codemirror_mode": {
    "name": "ipython",
    "version": 3
   },
   "file_extension": ".py",
   "mimetype": "text/x-python",
   "name": "python",
   "nbconvert_exporter": "python",
   "pygments_lexer": "ipython3",
   "version": "3.9.13"
  },
  "vscode": {
   "interpreter": {
    "hash": "071737a5efb5187f1b8a7f5eacd9bb694a30cbbaa4393dd0a3bebb490d9d36dd"
   }
  }
 },
 "nbformat": 4,
 "nbformat_minor": 1
}
